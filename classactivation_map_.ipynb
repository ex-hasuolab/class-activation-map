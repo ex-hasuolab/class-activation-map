{
  "nbformat": 4,
  "nbformat_minor": 0,
  "metadata": {
    "colab": {
      "name": "classactivation_map.ipynb",
      "provenance": [],
      "collapsed_sections": []
    },
    "kernelspec": {
      "display_name": "Python 3",
      "language": "python",
      "name": "python3"
    },
    "language_info": {
      "codemirror_mode": {
        "name": "ipython",
        "version": 3
      },
      "file_extension": ".py",
      "mimetype": "text/x-python",
      "name": "python",
      "nbconvert_exporter": "python",
      "pygments_lexer": "ipython3",
      "version": "3.6.9"
    }
  },
  "cells": [
    {
      "cell_type": "code",
      "metadata": {
        "id": "VKBwOsdPcGTP",
        "colab_type": "code",
        "colab": {
          "base_uri": "https://localhost:8080/",
          "height": 127
        },
        "outputId": "01891f25-6740-42fe-c56a-d640a2d41174"
      },
      "source": [
        "from google.colab import drive\n",
        "drive.mount('/content/drive')"
      ],
      "execution_count": 4,
      "outputs": [
        {
          "output_type": "stream",
          "text": [
            "Go to this URL in a browser: https://accounts.google.com/o/oauth2/auth?client_id=947318989803-6bn6qk8qdgf4n4g3pfee6491hc0brc4i.apps.googleusercontent.com&redirect_uri=urn%3aietf%3awg%3aoauth%3a2.0%3aoob&response_type=code&scope=email%20https%3a%2f%2fwww.googleapis.com%2fauth%2fdocs.test%20https%3a%2f%2fwww.googleapis.com%2fauth%2fdrive%20https%3a%2f%2fwww.googleapis.com%2fauth%2fdrive.photos.readonly%20https%3a%2f%2fwww.googleapis.com%2fauth%2fpeopleapi.readonly\n",
            "\n",
            "Enter your authorization code:\n",
            "··········\n",
            "Mounted at /content/drive\n"
          ],
          "name": "stdout"
        }
      ]
    },
    {
      "cell_type": "code",
      "metadata": {
        "id": "JZ94RrBImdik",
        "colab_type": "code",
        "colab": {
          "base_uri": "https://localhost:8080/",
          "height": 71
        },
        "outputId": "246a2f15-bb36-4fe8-a217-dfcff5817c89"
      },
      "source": [
        "%tensorflow_version 1.x\n",
        "import tensorflow as tf\n",
        "print(tf.__version__)\n",
        "!pip install -U efficientnet==0.0.4"
      ],
      "execution_count": 1,
      "outputs": [
        {
          "output_type": "stream",
          "text": [
            "TensorFlow 1.x selected.\n",
            "1.15.2\n",
            "Requirement already up-to-date: efficientnet==0.0.4 in /usr/local/lib/python3.6/dist-packages (0.0.4)\n"
          ],
          "name": "stdout"
        }
      ]
    },
    {
      "cell_type": "code",
      "metadata": {
        "id": "c-KJ0z47iDmh",
        "colab_type": "code",
        "colab": {
          "base_uri": "https://localhost:8080/",
          "height": 91
        },
        "outputId": "447512e9-c4d1-4395-8ffd-52f395291de5"
      },
      "source": [
        "# Dataloder ： utils/loder.pyに記述するべき内容\n",
        "%load_ext autoreload\n",
        "import numpy as np\n",
        "import cv2\n",
        "from math import ceil\n",
        "from scipy import ndimage\n",
        "from sklearn.model_selection import train_test_split\n",
        "import pandas as pd\n",
        "import matplotlib.pyplot as plt\n",
        "import matplotlib.image as mpimg\n",
        "import seaborn as sns\n",
        "%matplotlib inline\n",
        "from tensorflow.keras import utils\n",
        "import keras\n",
        "#from tensorflow.keras.datasets.cifar10 import load_data\n",
        "from tensorflow.keras.datasets.mnist import load_data\n"
      ],
      "execution_count": 2,
      "outputs": [
        {
          "output_type": "stream",
          "text": [
            "/usr/local/lib/python3.6/dist-packages/statsmodels/tools/_testing.py:19: FutureWarning: pandas.util.testing is deprecated. Use the functions in the public API at pandas.testing instead.\n",
            "  import pandas.util.testing as tm\n",
            "Using TensorFlow backend.\n"
          ],
          "name": "stderr"
        }
      ]
    },
    {
      "cell_type": "code",
      "metadata": {
        "id": "nZaBG3BijGH0",
        "colab_type": "code",
        "colab": {
          "base_uri": "https://localhost:8080/",
          "height": 53
        },
        "outputId": "8c77c83a-9d99-47eb-e5d5-a70c595723a3"
      },
      "source": [
        "from dataloder import Dataloder\n",
        "dataloder_ins = Dataloder()\n",
        "dataloder_ins.get_data(resize_mode = True, resize_shape = (56,56), cvtColor_mode = True)\n",
        "\n",
        "print(\"x_train shape : {}\".format(dataloder_ins.x_train.shape))\n",
        "print(\"y_train shape : {}\".format(dataloder_ins.y_train.shape))"
      ],
      "execution_count": 3,
      "outputs": [
        {
          "output_type": "stream",
          "text": [
            "x_train shape : (49500, 56, 56, 3)\n",
            "y_train shape : (49500, 10)\n"
          ],
          "name": "stdout"
        }
      ]
    },
    {
      "cell_type": "code",
      "metadata": {
        "id": "ETbXBe2vuTLq",
        "colab_type": "code",
        "colab": {
          "base_uri": "https://localhost:8080/",
          "height": 513
        },
        "outputId": "c0826791-7bff-4725-899e-ef9519ab80f9"
      },
      "source": [
        "# モジュールの構造：uitils.modules.pyに記述\n",
        "from efficientnet import EfficientNetB0\n",
        "from keras.layers import Input, Dense, Dropout, Flatten, Conv2D, MaxPooling2D\n",
        "from keras.layers import GlobalAveragePooling2D, Dense, Dropout\n",
        "from keras.models import Model\n",
        "\n",
        "class EfficientNet(object):\n",
        "    def __init__(self, cut_size, channel, category_count):\n",
        "        self.cut_size = cut_size\n",
        "        self.channel = channel\n",
        "        self.category_count = category_count\n",
        "        \n",
        "    def bottleneck(self, x):\n",
        "        x = GlobalAveragePooling2D()(x)\n",
        "        x = Dense(512, activation='relu')(x)\n",
        "        x = Dropout(rate=0.25)(x)\n",
        "        x = Dense(self.category_count, activation='sigmoid')(x)\n",
        "        return x\n",
        "    \n",
        "    def getTrainModel(self):\n",
        "        input_shape = (self.cut_size[\"height\"], self.cut_size[\"width\"], self.channel)\n",
        "        print(\"input_shape : {}\".format(input_shape))\n",
        "        \n",
        "        # EfficientNetのオプションについては随時調査（やりたいのは１から学習）\n",
        "        effnet_instance = EfficientNetB0(input_shape = input_shape,  weights='imagenet', include_top=False)\n",
        "        x = effnet_instance.output\n",
        "        x = self.bottleneck(x)\n",
        "\n",
        "        model = Model(inputs=effnet_instance.input, outputs=x)\n",
        "        return model"
      ],
      "execution_count": 5,
      "outputs": [
        {
          "output_type": "error",
          "ename": "ImportError",
          "evalue": "ignored",
          "traceback": [
            "\u001b[0;31m---------------------------------------------------------------------------\u001b[0m",
            "\u001b[0;31mImportError\u001b[0m                               Traceback (most recent call last)",
            "\u001b[0;32m<ipython-input-5-56836a005992>\u001b[0m in \u001b[0;36m<module>\u001b[0;34m()\u001b[0m\n\u001b[1;32m      1\u001b[0m \u001b[0;31m# モジュールの構造：uitils.modules.pyに記述\u001b[0m\u001b[0;34m\u001b[0m\u001b[0;34m\u001b[0m\u001b[0;34m\u001b[0m\u001b[0m\n\u001b[0;32m----> 2\u001b[0;31m \u001b[0;32mfrom\u001b[0m \u001b[0mefficientnet\u001b[0m \u001b[0;32mimport\u001b[0m \u001b[0mEfficientNetB0\u001b[0m\u001b[0;34m\u001b[0m\u001b[0;34m\u001b[0m\u001b[0m\n\u001b[0m\u001b[1;32m      3\u001b[0m \u001b[0;32mfrom\u001b[0m \u001b[0mkeras\u001b[0m\u001b[0;34m.\u001b[0m\u001b[0mlayers\u001b[0m \u001b[0;32mimport\u001b[0m \u001b[0mInput\u001b[0m\u001b[0;34m,\u001b[0m \u001b[0mDense\u001b[0m\u001b[0;34m,\u001b[0m \u001b[0mDropout\u001b[0m\u001b[0;34m,\u001b[0m \u001b[0mFlatten\u001b[0m\u001b[0;34m,\u001b[0m \u001b[0mConv2D\u001b[0m\u001b[0;34m,\u001b[0m \u001b[0mMaxPooling2D\u001b[0m\u001b[0;34m\u001b[0m\u001b[0;34m\u001b[0m\u001b[0m\n\u001b[1;32m      4\u001b[0m \u001b[0;32mfrom\u001b[0m \u001b[0mkeras\u001b[0m\u001b[0;34m.\u001b[0m\u001b[0mlayers\u001b[0m \u001b[0;32mimport\u001b[0m \u001b[0mGlobalAveragePooling2D\u001b[0m\u001b[0;34m,\u001b[0m \u001b[0mDense\u001b[0m\u001b[0;34m,\u001b[0m \u001b[0mDropout\u001b[0m\u001b[0;34m\u001b[0m\u001b[0;34m\u001b[0m\u001b[0m\n\u001b[1;32m      5\u001b[0m \u001b[0;32mfrom\u001b[0m \u001b[0mkeras\u001b[0m\u001b[0;34m.\u001b[0m\u001b[0mmodels\u001b[0m \u001b[0;32mimport\u001b[0m \u001b[0mModel\u001b[0m\u001b[0;34m\u001b[0m\u001b[0;34m\u001b[0m\u001b[0m\n",
            "\u001b[0;32m/content/efficientnet.py\u001b[0m in \u001b[0;36m<module>\u001b[0;34m()\u001b[0m\n\u001b[1;32m      1\u001b[0m \u001b[0;31m# モジュールの構造：uitils.modules.pyに記述\u001b[0m\u001b[0;34m\u001b[0m\u001b[0;34m\u001b[0m\u001b[0;34m\u001b[0m\u001b[0m\n\u001b[0;32m----> 2\u001b[0;31m \u001b[0;32mfrom\u001b[0m \u001b[0mefficientnet\u001b[0m \u001b[0;32mimport\u001b[0m \u001b[0mEfficientNetB0\u001b[0m\u001b[0;34m\u001b[0m\u001b[0;34m\u001b[0m\u001b[0m\n\u001b[0m\u001b[1;32m      3\u001b[0m \u001b[0;32mfrom\u001b[0m \u001b[0mkeras\u001b[0m\u001b[0;34m.\u001b[0m\u001b[0mlayers\u001b[0m \u001b[0;32mimport\u001b[0m \u001b[0mInput\u001b[0m\u001b[0;34m,\u001b[0m \u001b[0mDense\u001b[0m\u001b[0;34m,\u001b[0m \u001b[0mDropout\u001b[0m\u001b[0;34m,\u001b[0m \u001b[0mFlatten\u001b[0m\u001b[0;34m,\u001b[0m \u001b[0mConv2D\u001b[0m\u001b[0;34m,\u001b[0m \u001b[0mMaxPooling2D\u001b[0m\u001b[0;34m\u001b[0m\u001b[0;34m\u001b[0m\u001b[0m\n\u001b[1;32m      4\u001b[0m \u001b[0;32mfrom\u001b[0m \u001b[0mkeras\u001b[0m\u001b[0;34m.\u001b[0m\u001b[0mlayers\u001b[0m \u001b[0;32mimport\u001b[0m \u001b[0mGlobalAveragePooling2D\u001b[0m\u001b[0;34m,\u001b[0m \u001b[0mDense\u001b[0m\u001b[0;34m,\u001b[0m \u001b[0mDropout\u001b[0m\u001b[0;34m\u001b[0m\u001b[0;34m\u001b[0m\u001b[0m\n\u001b[1;32m      5\u001b[0m \u001b[0;32mfrom\u001b[0m \u001b[0mkeras\u001b[0m\u001b[0;34m.\u001b[0m\u001b[0mmodels\u001b[0m \u001b[0;32mimport\u001b[0m \u001b[0mModel\u001b[0m\u001b[0;34m\u001b[0m\u001b[0;34m\u001b[0m\u001b[0m\n",
            "\u001b[0;31mImportError\u001b[0m: cannot import name 'EfficientNetB0'",
            "",
            "\u001b[0;31m---------------------------------------------------------------------------\u001b[0;32m\nNOTE: If your import is failing due to a missing package, you can\nmanually install dependencies using either !pip or !apt.\n\nTo view examples of installing some common dependencies, click the\n\"Open Examples\" button below.\n\u001b[0;31m---------------------------------------------------------------------------\u001b[0m\n"
          ]
        }
      ]
    },
    {
      "cell_type": "code",
      "metadata": {
        "id": "M0CVZ-l4mDkL",
        "colab_type": "code",
        "colab": {
          "base_uri": "https://localhost:8080/",
          "height": 425
        },
        "outputId": "1727445e-3d46-464c-e8fc-9468835c5972"
      },
      "source": [
        "from efficientnet import EfficientNet\n",
        "\n",
        "data_num = dataloder_ins.x_train.shape[0]\n",
        "cut_size = {\n",
        "    \"height\" : dataloder_ins.x_train.shape[1],\n",
        "    \"width\" : dataloder_ins.x_train.shape[2]\n",
        "}\n",
        "channel = dataloder_ins.x_train.shape[3]\n",
        "category_count = dataloder_ins.y_train.shape[1]\n",
        "\n",
        "print(data_num)\n",
        "print(cut_size)\n",
        "print(channel)\n",
        "print(category_count)\n",
        "\n",
        "efficientnet_ins = EfficientNet(cut_size, channel, category_count)"
      ],
      "execution_count": 16,
      "outputs": [
        {
          "output_type": "stream",
          "text": [
            "49500\n",
            "{'height': 56, 'width': 56}\n",
            "3\n",
            "10\n"
          ],
          "name": "stdout"
        },
        {
          "output_type": "error",
          "ename": "AttributeError",
          "evalue": "ignored",
          "traceback": [
            "\u001b[0;31m---------------------------------------------------------------------------\u001b[0m",
            "\u001b[0;31mAttributeError\u001b[0m                            Traceback (most recent call last)",
            "\u001b[0;32m<ipython-input-16-e0a581e13e81>\u001b[0m in \u001b[0;36m<module>\u001b[0;34m()\u001b[0m\n\u001b[1;32m     14\u001b[0m \u001b[0mprint\u001b[0m\u001b[0;34m(\u001b[0m\u001b[0mcategory_count\u001b[0m\u001b[0;34m)\u001b[0m\u001b[0;34m\u001b[0m\u001b[0;34m\u001b[0m\u001b[0m\n\u001b[1;32m     15\u001b[0m \u001b[0;34m\u001b[0m\u001b[0m\n\u001b[0;32m---> 16\u001b[0;31m \u001b[0mefficientnet_ins\u001b[0m \u001b[0;34m=\u001b[0m \u001b[0mEfficientNet\u001b[0m\u001b[0;34m(\u001b[0m\u001b[0mcut_size\u001b[0m\u001b[0;34m,\u001b[0m \u001b[0mchannel\u001b[0m\u001b[0;34m,\u001b[0m \u001b[0mcategory_count\u001b[0m\u001b[0;34m)\u001b[0m\u001b[0;34m\u001b[0m\u001b[0;34m\u001b[0m\u001b[0m\n\u001b[0m",
            "\u001b[0;32m/usr/local/lib/python3.6/dist-packages/efficientnet/model.py\u001b[0m in \u001b[0;36mEfficientNet\u001b[0;34m(input_shape, block_args_list, global_params, input_tensor, include_top, pooling)\u001b[0m\n\u001b[1;32m    205\u001b[0m     \u001b[0minput_shape\u001b[0m\u001b[0;34m,\u001b[0m \u001b[0mblock_args_list\u001b[0m\u001b[0;34m,\u001b[0m \u001b[0mglobal_params\u001b[0m\u001b[0;34m,\u001b[0m \u001b[0minput_tensor\u001b[0m\u001b[0;34m=\u001b[0m\u001b[0;32mNone\u001b[0m\u001b[0;34m,\u001b[0m \u001b[0minclude_top\u001b[0m\u001b[0;34m=\u001b[0m\u001b[0;32mTrue\u001b[0m\u001b[0;34m,\u001b[0m \u001b[0mpooling\u001b[0m\u001b[0;34m=\u001b[0m\u001b[0;32mNone\u001b[0m\u001b[0;34m\u001b[0m\u001b[0;34m\u001b[0m\u001b[0m\n\u001b[1;32m    206\u001b[0m ):\n\u001b[0;32m--> 207\u001b[0;31m     \u001b[0mbatch_norm_momentum\u001b[0m \u001b[0;34m=\u001b[0m \u001b[0mglobal_params\u001b[0m\u001b[0;34m.\u001b[0m\u001b[0mbatch_norm_momentum\u001b[0m\u001b[0;34m\u001b[0m\u001b[0;34m\u001b[0m\u001b[0m\n\u001b[0m\u001b[1;32m    208\u001b[0m     \u001b[0mbatch_norm_epsilon\u001b[0m \u001b[0;34m=\u001b[0m \u001b[0mglobal_params\u001b[0m\u001b[0;34m.\u001b[0m\u001b[0mbatch_norm_epsilon\u001b[0m\u001b[0;34m\u001b[0m\u001b[0;34m\u001b[0m\u001b[0m\n\u001b[1;32m    209\u001b[0m     \u001b[0;32mif\u001b[0m \u001b[0mglobal_params\u001b[0m\u001b[0;34m.\u001b[0m\u001b[0mdata_format\u001b[0m \u001b[0;34m==\u001b[0m \u001b[0;34m\"channels_first\"\u001b[0m\u001b[0;34m:\u001b[0m\u001b[0;34m\u001b[0m\u001b[0;34m\u001b[0m\u001b[0m\n",
            "\u001b[0;31mAttributeError\u001b[0m: 'int' object has no attribute 'batch_norm_momentum'"
          ]
        }
      ]
    },
    {
      "cell_type": "code",
      "metadata": {
        "id": "PXy6GS3q5-s2",
        "colab_type": "code",
        "colab": {
          "base_uri": "https://localhost:8080/",
          "height": 207
        },
        "outputId": "1fd22376-f055-45a9-c6da-edb3da37e049"
      },
      "source": [
        "from solver import Solver\n",
        "solver_ins = Solver(dataloder_ins, efficie)\n",
        "solver_ins.get_mode()"
      ],
      "execution_count": 7,
      "outputs": [
        {
          "output_type": "error",
          "ename": "NameError",
          "evalue": "ignored",
          "traceback": [
            "\u001b[0;31m---------------------------------------------------------------------------\u001b[0m",
            "\u001b[0;31mNameError\u001b[0m                                 Traceback (most recent call last)",
            "\u001b[0;32m<ipython-input-7-21f3fc4867f0>\u001b[0m in \u001b[0;36m<module>\u001b[0;34m()\u001b[0m\n\u001b[1;32m      1\u001b[0m \u001b[0;32mfrom\u001b[0m \u001b[0msolver\u001b[0m \u001b[0;32mimport\u001b[0m \u001b[0mSolver\u001b[0m\u001b[0;34m\u001b[0m\u001b[0;34m\u001b[0m\u001b[0m\n\u001b[0;32m----> 2\u001b[0;31m \u001b[0msolver_ins\u001b[0m \u001b[0;34m=\u001b[0m \u001b[0mSolver\u001b[0m\u001b[0;34m(\u001b[0m\u001b[0mdataloder_ins\u001b[0m\u001b[0;34m,\u001b[0m \u001b[0mefficie\u001b[0m\u001b[0;34m)\u001b[0m\u001b[0;34m\u001b[0m\u001b[0;34m\u001b[0m\u001b[0m\n\u001b[0m\u001b[1;32m      3\u001b[0m \u001b[0msolver_ins\u001b[0m\u001b[0;34m.\u001b[0m\u001b[0mget_mode\u001b[0m\u001b[0;34m(\u001b[0m\u001b[0;34m)\u001b[0m\u001b[0;34m\u001b[0m\u001b[0;34m\u001b[0m\u001b[0m\n",
            "\u001b[0;31mNameError\u001b[0m: name 'efficie' is not defined"
          ]
        }
      ]
    },
    {
      "cell_type": "code",
      "metadata": {
        "id": "V92TRhE7l8zn",
        "colab_type": "code",
        "colab": {}
      },
      "source": [
        ""
      ],
      "execution_count": 0,
      "outputs": []
    },
    {
      "cell_type": "code",
      "metadata": {
        "id": "5--0OGk35-s_",
        "colab_type": "code",
        "colab": {
          "base_uri": "https://localhost:8080/",
          "height": 35
        },
        "outputId": "832c05bd-4fa8-4080-e61b-7d1fc3561a5d"
      },
      "source": [
        "\n",
        "ins = Solver2(dataloder_ins, model_ins, batch_size=10, n_epochs=4)\n",
        "model = ins.get_model()"
      ],
      "execution_count": 47,
      "outputs": [
        {
          "output_type": "stream",
          "text": [
            "input_shape : (28, 28, 3)\n"
          ],
          "name": "stdout"
        }
      ]
    },
    {
      "cell_type": "code",
      "metadata": {
        "id": "qtH23JC58PqL",
        "colab_type": "code",
        "colab": {
          "base_uri": "https://localhost:8080/",
          "height": 235
        },
        "outputId": "ac3b84e2-6ce2-4b36-b730-5ded900e8d00"
      },
      "source": [
        "ins.train(model)"
      ],
      "execution_count": 49,
      "outputs": [
        {
          "output_type": "stream",
          "text": [
            "x_train shape (49500, 28, 28, 3)\n",
            "y_train shape (49500, 10)\n",
            "Train on 49500 samples, validate on 10500 samples\n",
            "Epoch 1/4\n",
            "49500/49500 [==============================] - 1007s 20ms/step - loss: 0.0764 - categorical_accuracy: 0.9184 - val_loss: 0.4093 - val_categorical_accuracy: 0.7731\n",
            "Epoch 2/4\n",
            "49500/49500 [==============================] - 991s 20ms/step - loss: 0.0668 - categorical_accuracy: 0.9430 - val_loss: 0.4293 - val_categorical_accuracy: 0.8477\n",
            "Epoch 3/4\n",
            "49500/49500 [==============================] - 993s 20ms/step - loss: 0.0647 - categorical_accuracy: 0.9532 - val_loss: 4.9004 - val_categorical_accuracy: 0.7566\n",
            "Epoch 4/4\n",
            "49500/49500 [==============================] - 971s 20ms/step - loss: 0.0621 - categorical_accuracy: 0.9583 - val_loss: 0.2279 - val_categorical_accuracy: 0.8878\n"
          ],
          "name": "stdout"
        }
      ]
    },
    {
      "cell_type": "markdown",
      "metadata": {
        "id": "u4GQvl_9FKNh",
        "colab_type": "text"
      },
      "source": [
        ""
      ]
    },
    {
      "cell_type": "code",
      "metadata": {
        "id": "n48vXnoZ8WFU",
        "colab_type": "code",
        "colab": {}
      },
      "source": [
        ""
      ],
      "execution_count": 0,
      "outputs": []
    },
    {
      "cell_type": "code",
      "metadata": {
        "colab_type": "code",
        "id": "dn0tLKFrcATT",
        "colab": {}
      },
      "source": [
        "# model.compileとmodel.fit : solver.pyに記載\n",
        "from keras.optimizers import RMSprop\n",
        "from keras.callbacks import Callback, CSVLogger\n",
        "\n",
        "class Solver(object):\n",
        "    def __init__(self, dataloder_instance, batch_size, n_epochs):\n",
        "        self.data_loader = dataloder_instance\n",
        "        self.batch_size = batch_size\n",
        "        self.n_epochs = n_epochs\n",
        "        self.n_classes = 10\n",
        "        print(\"n_classes : {}\".format(self.n_classes))\n",
        "        \n",
        "        self.model = get_model(input_shape = self.data_loader.x_train.shape, n_classes = self.n_classes)\n",
        "        \n",
        "        # ファインチューニングする場合は専用のAdamオプティマイザを使う\n",
        "        # optimizer = get_adam_for_fine_tuning(lr=1e-3, decay=1e-5, multiplier=0.01, model=model)\n",
        "        \n",
        "        self.model.compile(loss='categorical_crossentropy', optimizer=RMSprop(),\n",
        "                  metrics=['accuracy'])\n",
        "    \n",
        "    def train(self):\n",
        "        # callbackを定義する場合はここに記述\n",
        "        self.model.fit(self.data_loader.x_train, self.data_loader.y_train, batch_size=self.batch_size, \\\n",
        "                       epochs=self.n_epochs, verbose=1, validation_data=(self.data_loader.x_valid, self.data_loader.y_valid),\n",
        "                       callbacks = [lr_schedule, model_checkpoint]callbacks = [lr_schedule, model_checkpoint])"
      ],
      "execution_count": 0,
      "outputs": []
    },
    {
      "cell_type": "code",
      "metadata": {
        "colab_type": "code",
        "id": "Eyf_PUNYcA1s",
        "outputId": "9abb4d42-0b25-4db0-ec21-ba51960427e5",
        "colab": {
          "base_uri": "https://localhost:8080/",
          "height": 52
        }
      },
      "source": [
        "dataloder_ins = Dataloder()\n",
        "dataloder_ins.get_data(channel = 1)"
      ],
      "execution_count": 0,
      "outputs": [
        {
          "output_type": "stream",
          "text": [
            "Downloading data from https://storage.googleapis.com/tensorflow/tf-keras-datasets/mnist.npz\n",
            "11493376/11490434 [==============================] - 0s 0us/step\n"
          ],
          "name": "stdout"
        }
      ]
    },
    {
      "cell_type": "code",
      "metadata": {
        "colab_type": "code",
        "id": "fNmFa-6fff25",
        "outputId": "8ac36ced-27df-4511-fb98-87460e73892b",
        "colab": {
          "base_uri": "https://localhost:8080/",
          "height": 176
        }
      },
      "source": [
        "solver_ins = Solver(dataloder_ins, batch_size=10, n_epochs=1)\n",
        "model = solver_ins.model"
      ],
      "execution_count": 0,
      "outputs": [
        {
          "output_type": "stream",
          "text": [
            "n_classes : 10\n",
            "input_shape : (49500, 28, 28, 1)\n",
            "inputTensor(\"input_1:0\", shape=(?, 28, 28, 1), dtype=float32)\n",
            "WARNING:tensorflow:From /tensorflow-1.15.2/python3.6/tensorflow_core/python/ops/resource_variable_ops.py:1630: calling BaseResourceVariable.__init__ (from tensorflow.python.ops.resource_variable_ops) with constraint is deprecated and will be removed in a future version.\n",
            "Instructions for updating:\n",
            "If using Keras pass *_constraint arguments to layers.\n",
            "WARNING:tensorflow:From /usr/local/lib/python3.6/dist-packages/keras/backend/tensorflow_backend.py:4070: The name tf.nn.max_pool is deprecated. Please use tf.nn.max_pool2d instead.\n",
            "\n"
          ],
          "name": "stdout"
        }
      ]
    },
    {
      "cell_type": "code",
      "metadata": {
        "colab_type": "code",
        "id": "JKk8uc_BfpeO",
        "outputId": "4b9437db-2a83-4b05-d914-f3b28a0378c1",
        "colab": {
          "base_uri": "https://localhost:8080/",
          "height": 399
        }
      },
      "source": [
        "model.summary()"
      ],
      "execution_count": 0,
      "outputs": [
        {
          "output_type": "stream",
          "text": [
            "Model: \"model_1\"\n",
            "_________________________________________________________________\n",
            "Layer (type)                 Output Shape              Param #   \n",
            "=================================================================\n",
            "input_1 (InputLayer)         (None, 28, 28, 1)         0         \n",
            "_________________________________________________________________\n",
            "conv2d_1 (Conv2D)            (None, 26, 26, 16)        160       \n",
            "_________________________________________________________________\n",
            "conv2d_2 (Conv2D)            (None, 24, 24, 32)        4640      \n",
            "_________________________________________________________________\n",
            "max_pooling2d_1 (MaxPooling2 (None, 12, 12, 32)        0         \n",
            "_________________________________________________________________\n",
            "conv2d_3 (Conv2D)            (None, 10, 10, 64)        18496     \n",
            "_________________________________________________________________\n",
            "global_average_pooling2d_1 ( (None, 64)                0         \n",
            "_________________________________________________________________\n",
            "dense_1 (Dense)              (None, 10)                650       \n",
            "=================================================================\n",
            "Total params: 23,946\n",
            "Trainable params: 23,946\n",
            "Non-trainable params: 0\n",
            "_________________________________________________________________\n"
          ],
          "name": "stdout"
        }
      ]
    },
    {
      "cell_type": "code",
      "metadata": {
        "colab_type": "code",
        "id": "mukswccmffo4",
        "colab": {}
      },
      "source": [
        ""
      ],
      "execution_count": 0,
      "outputs": []
    },
    {
      "cell_type": "code",
      "metadata": {
        "colab_type": "code",
        "id": "sAlFhp45fW01",
        "colab": {}
      },
      "source": [
        ""
      ],
      "execution_count": 0,
      "outputs": []
    },
    {
      "cell_type": "code",
      "metadata": {
        "colab_type": "code",
        "id": "7MavFKx1c76Y",
        "outputId": "e91b21b4-ec93-4741-9bee-684680cbf877",
        "colab": {
          "base_uri": "https://localhost:8080/",
          "height": 441
        }
      },
      "source": [
        "#中間層の結果を取得\n",
        "layer_name = 'conv2d_5'\n",
        "intermediate_layer_model = Model(inputs=solver_ins.model.input,\n",
        "                                 outputs=solver_ins.model.get_layer(layer_name).output)\n",
        "intermediate_output = intermediate_layer_model.predict(dataloder_ins.x_test[0:1])\n",
        "print(np.shape(intermediate_output))\n",
        "\n",
        "#中間の重みを取得\n",
        "w = solver_ins.model.get_weights()\n",
        "for i in range(len(w)):\n",
        "    print(w[i].shape)\n",
        "\n",
        "# FeatureMapを10クラス分計算\n",
        "print(w[-2].shape)\n",
        "print(intermediate_output[0].shape)\n",
        "\n",
        "# 全クラスのfeaturemap計算\n",
        "feature_map, = intermediate_output @ w[-2]\n",
        "print(feature_map.shape)\n",
        "for i in range(10):\n",
        "    plt.subplot(2,5,i+1)\n",
        "    plt.imshow(feature_map[:,:,i])"
      ],
      "execution_count": 0,
      "outputs": [
        {
          "output_type": "stream",
          "text": [
            "(1, 10, 10, 64)\n",
            "(3, 3, 1, 16)\n",
            "(16,)\n",
            "(3, 3, 16, 32)\n",
            "(32,)\n",
            "(3, 3, 32, 64)\n",
            "(64,)\n",
            "(64, 10)\n",
            "(10,)\n",
            "(64, 10)\n",
            "(10, 10, 64)\n",
            "(10, 10, 10)\n"
          ],
          "name": "stdout"
        },
        {
          "output_type": "display_data",
          "data": {
            "image/png": "[encoded data removed]",
            "text/plain": [
              "<Figure size 432x288 with 10 Axes>"
            ]
          },
          "metadata": {
            "tags": [],
            "needs_background": "light"
          }
        }
      ]
    },
    {
      "cell_type": "code",
      "metadata": {
        "colab_type": "code",
        "id": "gzQX0VOkdJzD",
        "colab": {}
      },
      "source": [
        ""
      ],
      "execution_count": 0,
      "outputs": []
    }
  ]
}