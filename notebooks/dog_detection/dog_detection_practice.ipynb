{
 "cells": [
  {
   "cell_type": "markdown",
   "metadata": {
    "colab_type": "text",
    "id": "rOvvWAVTkMR7"
   },
   "source": [
    "# 犬"
   ]
  },
  {
   "cell_type": "markdown",
   "metadata": {
    "colab_type": "text",
    "id": "vPs64QA1Zdov"
   },
   "source": [
    "## Imports\n",
    "deeplearning-setのdockerコンテナで、modelsのダウンロードとprotocのインストールが完了していることを想定"
   ]
  },
  {
   "cell_type": "code",
   "execution_count": 1,
   "metadata": {
    "colab": {},
    "colab_type": "code",
    "id": "oi28cqGGFWnY"
   },
   "outputs": [],
   "source": [
    "# modelsのパス\n",
    "models_path = '/home/tensorflow/models'\n",
    "\n",
    "# deeplearning-setのtoolsまでのパス（docker-composeのvolume設定でマウントしておく）\n",
    "deeplearning_tools_path = '/home/deeplearning-set'\n",
    "\n",
    "# dataディレクトリのパス\n",
    "data_path = '/home/deeplearning-set/notebooks/dog_detection/data'"
   ]
  },
  {
   "cell_type": "code",
   "execution_count": 2,
   "metadata": {},
   "outputs": [],
   "source": [
    "# deeplearning-setにパスを通して、いろいろとimport出来るようにしておく\n",
    "import sys\n",
    "sys.path.append(deeplearning_tools_path)"
   ]
  },
  {
   "cell_type": "code",
   "execution_count": 3,
   "metadata": {
    "colab": {},
    "colab_type": "code",
    "id": "uZcqD4NLdnf4"
   },
   "outputs": [],
   "source": [
    "import matplotlib\n",
    "import matplotlib.pyplot as plt\n",
    "\n",
    "import os\n",
    "import random\n",
    "import io\n",
    "import imageio\n",
    "import glob\n",
    "import scipy.misc\n",
    "import numpy as np\n",
    "from six import BytesIO\n",
    "from PIL import Image, ImageDraw, ImageFont\n",
    "from IPython.display import display, Javascript\n",
    "from IPython.display import Image as IPyImage\n",
    "\n",
    "import tensorflow as tf\n",
    "\n",
    "from object_detection.utils import label_map_util\n",
    "from object_detection.utils import config_util\n",
    "from object_detection.utils import visualization_utils as viz_utils\n",
    "#from object_detection.utils import colab_utils\n",
    "from object_detection.builders import model_builder\n",
    "\n",
    "%matplotlib inline"
   ]
  },
  {
   "cell_type": "code",
   "execution_count": 4,
   "metadata": {},
   "outputs": [
    {
     "name": "stdout",
     "output_type": "stream",
     "text": [
      "1 Physical GPUs, 1 Logical GPUs\n"
     ]
    }
   ],
   "source": [
    "# tensorflow GPU用の設定（GPUが使える場合のみ実行される）\n",
    "gpus = tf.config.experimental.list_physical_devices('GPU')\n",
    "if gpus:\n",
    "    try:\n",
    "        # Restrict TensorFlow to only use the fourth GPU\n",
    "        tf.config.experimental.set_visible_devices(gpus[0], 'GPU')\n",
    "\n",
    "        # Currently, memory growth needs to be the same across GPUs\n",
    "        for gpu in gpus:\n",
    "            tf.config.experimental.set_memory_growth(gpu, True)\n",
    "        logical_gpus = tf.config.experimental.list_logical_devices('GPU')\n",
    "        print(len(gpus), \"Physical GPUs,\", len(logical_gpus), \"Logical GPUs\")\n",
    "    except RuntimeError as e:\n",
    "        # Memory growth must be set before GPUs have been initialized\n",
    "        print(e)\n"
   ]
  },
  {
   "cell_type": "markdown",
   "metadata": {
    "colab_type": "text",
    "id": "IogyryF2lFBL"
   },
   "source": [
    "# Utilities"
   ]
  },
  {
   "cell_type": "code",
   "execution_count": 5,
   "metadata": {
    "colab": {},
    "colab_type": "code",
    "id": "-y9R0Xllefec"
   },
   "outputs": [],
   "source": [
    "def load_image_into_numpy_array(path):\n",
    "  \"\"\"Load an image from file into a numpy array.\n",
    "\n",
    "  Puts image into numpy array to feed into tensorflow graph.\n",
    "  Note that by convention we put it into a numpy array with shape\n",
    "  (height, width, channels), where channels=3 for RGB.\n",
    "\n",
    "  Args:\n",
    "    path: a file path.\n",
    "\n",
    "  Returns:\n",
    "    uint8 numpy array with shape (img_height, img_width, 3)\n",
    "  \"\"\"\n",
    "  img_data = tf.io.gfile.GFile(path, 'rb').read()\n",
    "  image = Image.open(BytesIO(img_data))\n",
    "  (im_width, im_height) = image.size\n",
    "  return np.array(image.getdata()).reshape(\n",
    "      (im_height, im_width, 3)).astype(np.uint8)\n",
    "\n",
    "def plot_detections(image_np,\n",
    "                    boxes,\n",
    "                    classes,\n",
    "                    scores,\n",
    "                    category_index,\n",
    "                    figsize=(12, 16),\n",
    "                    image_name=None):\n",
    "  \"\"\"Wrapper function to visualize detections.\n",
    "\n",
    "  Args:\n",
    "    image_np: uint8 numpy array with shape (img_height, img_width, 3)\n",
    "    boxes: a numpy array of shape [N, 4]\n",
    "    classes: a numpy array of shape [N]. Note that class indices are 1-based,\n",
    "      and match the keys in the label map.\n",
    "    scores: a numpy array of shape [N] or None.  If scores=None, then\n",
    "      this function assumes that the boxes to be plotted are groundtruth\n",
    "      boxes and plot all boxes as black with no classes or scores.\n",
    "    category_index: a dict containing category dictionaries (each holding\n",
    "      category index `id` and category name `name`) keyed by category indices.\n",
    "    figsize: size for the figure.\n",
    "    image_name: a name for the image file.\n",
    "  \"\"\"\n",
    "  image_np_with_annotations = image_np.copy()\n",
    "  viz_utils.visualize_boxes_and_labels_on_image_array(\n",
    "      image_np_with_annotations,\n",
    "      boxes,\n",
    "      classes,\n",
    "      scores,\n",
    "      category_index,\n",
    "      use_normalized_coordinates=True,\n",
    "      min_score_thresh=0.8)\n",
    "  if image_name:\n",
    "    plt.imsave(image_name, image_np_with_annotations)\n",
    "  else:\n",
    "    plt.imshow(image_np_with_annotations)\n"
   ]
  },
  {
   "cell_type": "markdown",
   "metadata": {
    "colab_type": "text",
    "id": "sSaXL28TZfk1"
   },
   "source": [
    "# データ読み込み\n",
    "\n",
    "Imagenetから読み込んだ画像と、bbox(xmlファイル)を読み込む  \n",
    "（注）ex-hasuolabをvolumeに設定しておく"
   ]
  },
  {
   "cell_type": "code",
   "execution_count": 6,
   "metadata": {},
   "outputs": [],
   "source": [
    "# deeplearnng-setデータローダー\n",
    "from tools.dataloader import Dataloader\n",
    "# XML→BBOXに変換する関数\n",
    "from tools.object_detection import xml_to_labels"
   ]
  },
  {
   "cell_type": "code",
   "execution_count": 7,
   "metadata": {},
   "outputs": [
    {
     "name": "stdout",
     "output_type": "stream",
     "text": [
      "Found 15 images belonging to 2 classes.\n",
      "Found 9 images belonging to 2 classes.\n",
      "Found 9 images belonging to 2 classes.\n"
     ]
    }
   ],
   "source": [
    "# データの読み込み\n",
    "dataloader_ins = Dataloader()\n",
    "\n",
    "resize_shape = (255, 255)\n",
    "dataloader_ins.get_user_data(train_dir=data_path+'/train', batch_size=10,\n",
    "                             validation_dir=data_path+'/test',\n",
    "                             resize_shape=resize_shape,\n",
    "                             test_dir=data_path+'/test', test_batch_size=1)"
   ]
  },
  {
   "cell_type": "code",
   "execution_count": 8,
   "metadata": {},
   "outputs": [
    {
     "data": {
      "text/plain": [
       "{0: 'Pomeranian', 1: 'Siberian husky'}"
      ]
     },
     "execution_count": 8,
     "metadata": {},
     "output_type": "execute_result"
    }
   ],
   "source": [
    "# クラス名とクラスインデックスの対応\n",
    "indeces_to_labels = {i: label for label, i in dataloader_ins.train_generator.class_indices.items()}\n",
    "indeces_to_labels"
   ]
  },
  {
   "cell_type": "code",
   "execution_count": 9,
   "metadata": {},
   "outputs": [],
   "source": [
    "# ラベル名とクラスインデックスを対応させる（手動）\n",
    "labels_to_classindex = {'n02112018': 0, 'n02110185': 1}"
   ]
  },
  {
   "cell_type": "code",
   "execution_count": 10,
   "metadata": {},
   "outputs": [],
   "source": [
    "# BBOX情報を全て読み込み\n",
    "import glob\n",
    "import pandas as pd\n",
    "colname_bbox = ['image_filename', 'x', 'y', 'w', 'h', 'label', 'class_index']\n",
    "df_bbox_info = pd.DataFrame(columns=colname_bbox)\n",
    "\n",
    "annotation_filename_list = glob.glob(data_path + '/annotation/*.xml')  # annotation下にある全xmlファイル名を取得\n",
    "\n",
    "for i, xml_filename in enumerate(annotation_filename_list):\n",
    "    image_filename, df = xml_to_labels(xml_filename)\n",
    "    \n",
    "    df['class_index'] = df['label'].map(lambda key: labels_to_classindex[key])\n",
    "    df['class_name'] = df['class_index'].map(lambda key: indeces_to_labels[key])\n",
    "    \n",
    "    df['image_filename'] = image_filename + '.xml'\n",
    "    \n",
    "    df_bbox_info = pd.concat([df_bbox_info, df], axis=0)\n",
    "df_bbox_info.reset_index(inplace=True, drop=True)"
   ]
  },
  {
   "cell_type": "code",
   "execution_count": 11,
   "metadata": {},
   "outputs": [
    {
     "data": {
      "text/html": [
       "<div>\n",
       "<style scoped>\n",
       "    .dataframe tbody tr th:only-of-type {\n",
       "        vertical-align: middle;\n",
       "    }\n",
       "\n",
       "    .dataframe tbody tr th {\n",
       "        vertical-align: top;\n",
       "    }\n",
       "\n",
       "    .dataframe thead th {\n",
       "        text-align: right;\n",
       "    }\n",
       "</style>\n",
       "<table border=\"1\" class=\"dataframe\">\n",
       "  <thead>\n",
       "    <tr style=\"text-align: right;\">\n",
       "      <th></th>\n",
       "      <th>image_filename</th>\n",
       "      <th>x</th>\n",
       "      <th>y</th>\n",
       "      <th>w</th>\n",
       "      <th>h</th>\n",
       "      <th>label</th>\n",
       "      <th>class_index</th>\n",
       "      <th>class_name</th>\n",
       "    </tr>\n",
       "  </thead>\n",
       "  <tbody>\n",
       "    <tr>\n",
       "      <th>0</th>\n",
       "      <td>n02110185_1548.xml</td>\n",
       "      <td>224</td>\n",
       "      <td>35</td>\n",
       "      <td>188</td>\n",
       "      <td>339</td>\n",
       "      <td>n02110185</td>\n",
       "      <td>1</td>\n",
       "      <td>Siberian husky</td>\n",
       "    </tr>\n",
       "    <tr>\n",
       "      <th>1</th>\n",
       "      <td>n02110185_1552.xml</td>\n",
       "      <td>118</td>\n",
       "      <td>73</td>\n",
       "      <td>94</td>\n",
       "      <td>274</td>\n",
       "      <td>n02110185</td>\n",
       "      <td>1</td>\n",
       "      <td>Siberian husky</td>\n",
       "    </tr>\n",
       "    <tr>\n",
       "      <th>2</th>\n",
       "      <td>n02110185_1598.xml</td>\n",
       "      <td>136</td>\n",
       "      <td>32</td>\n",
       "      <td>196</td>\n",
       "      <td>466</td>\n",
       "      <td>n02110185</td>\n",
       "      <td>1</td>\n",
       "      <td>Siberian husky</td>\n",
       "    </tr>\n",
       "    <tr>\n",
       "      <th>3</th>\n",
       "      <td>n02110185_1614.xml</td>\n",
       "      <td>145</td>\n",
       "      <td>22</td>\n",
       "      <td>241</td>\n",
       "      <td>310</td>\n",
       "      <td>n02110185</td>\n",
       "      <td>1</td>\n",
       "      <td>Siberian husky</td>\n",
       "    </tr>\n",
       "    <tr>\n",
       "      <th>4</th>\n",
       "      <td>n02110185_352.xml</td>\n",
       "      <td>55</td>\n",
       "      <td>57</td>\n",
       "      <td>259</td>\n",
       "      <td>316</td>\n",
       "      <td>n02110185</td>\n",
       "      <td>1</td>\n",
       "      <td>Siberian husky</td>\n",
       "    </tr>\n",
       "    <tr>\n",
       "      <th>5</th>\n",
       "      <td>n02110185_388.xml</td>\n",
       "      <td>3</td>\n",
       "      <td>57</td>\n",
       "      <td>495</td>\n",
       "      <td>272</td>\n",
       "      <td>n02110185</td>\n",
       "      <td>1</td>\n",
       "      <td>Siberian husky</td>\n",
       "    </tr>\n",
       "    <tr>\n",
       "      <th>6</th>\n",
       "      <td>n02110185_519.xml</td>\n",
       "      <td>199</td>\n",
       "      <td>3</td>\n",
       "      <td>295</td>\n",
       "      <td>370</td>\n",
       "      <td>n02110185</td>\n",
       "      <td>1</td>\n",
       "      <td>Siberian husky</td>\n",
       "    </tr>\n",
       "    <tr>\n",
       "      <th>7</th>\n",
       "      <td>n02110185_56.xml</td>\n",
       "      <td>110</td>\n",
       "      <td>103</td>\n",
       "      <td>142</td>\n",
       "      <td>295</td>\n",
       "      <td>n02110185</td>\n",
       "      <td>1</td>\n",
       "      <td>Siberian husky</td>\n",
       "    </tr>\n",
       "    <tr>\n",
       "      <th>8</th>\n",
       "      <td>n02110185_582.xml</td>\n",
       "      <td>0</td>\n",
       "      <td>38</td>\n",
       "      <td>499</td>\n",
       "      <td>267</td>\n",
       "      <td>n02110185</td>\n",
       "      <td>1</td>\n",
       "      <td>Siberian husky</td>\n",
       "    </tr>\n",
       "    <tr>\n",
       "      <th>9</th>\n",
       "      <td>n02110185_698.xml</td>\n",
       "      <td>28</td>\n",
       "      <td>6</td>\n",
       "      <td>290</td>\n",
       "      <td>476</td>\n",
       "      <td>n02110185</td>\n",
       "      <td>1</td>\n",
       "      <td>Siberian husky</td>\n",
       "    </tr>\n",
       "    <tr>\n",
       "      <th>10</th>\n",
       "      <td>n02110185_699.xml</td>\n",
       "      <td>0</td>\n",
       "      <td>0</td>\n",
       "      <td>473</td>\n",
       "      <td>465</td>\n",
       "      <td>n02110185</td>\n",
       "      <td>1</td>\n",
       "      <td>Siberian husky</td>\n",
       "    </tr>\n",
       "    <tr>\n",
       "      <th>11</th>\n",
       "      <td>n02110185_815.xml</td>\n",
       "      <td>2</td>\n",
       "      <td>66</td>\n",
       "      <td>228</td>\n",
       "      <td>307</td>\n",
       "      <td>n02110185</td>\n",
       "      <td>1</td>\n",
       "      <td>Siberian husky</td>\n",
       "    </tr>\n",
       "    <tr>\n",
       "      <th>12</th>\n",
       "      <td>n02110185_815.xml</td>\n",
       "      <td>168</td>\n",
       "      <td>138</td>\n",
       "      <td>331</td>\n",
       "      <td>229</td>\n",
       "      <td>n02110185</td>\n",
       "      <td>1</td>\n",
       "      <td>Siberian husky</td>\n",
       "    </tr>\n",
       "    <tr>\n",
       "      <th>13</th>\n",
       "      <td>n02110185_931.xml</td>\n",
       "      <td>172</td>\n",
       "      <td>36</td>\n",
       "      <td>186</td>\n",
       "      <td>207</td>\n",
       "      <td>n02110185</td>\n",
       "      <td>1</td>\n",
       "      <td>Siberian husky</td>\n",
       "    </tr>\n",
       "    <tr>\n",
       "      <th>14</th>\n",
       "      <td>n02110185_931.xml</td>\n",
       "      <td>49</td>\n",
       "      <td>1</td>\n",
       "      <td>109</td>\n",
       "      <td>189</td>\n",
       "      <td>n02110185</td>\n",
       "      <td>1</td>\n",
       "      <td>Siberian husky</td>\n",
       "    </tr>\n",
       "    <tr>\n",
       "      <th>15</th>\n",
       "      <td>n02110185_931.xml</td>\n",
       "      <td>0</td>\n",
       "      <td>2</td>\n",
       "      <td>44</td>\n",
       "      <td>55</td>\n",
       "      <td>n02110185</td>\n",
       "      <td>1</td>\n",
       "      <td>Siberian husky</td>\n",
       "    </tr>\n",
       "    <tr>\n",
       "      <th>16</th>\n",
       "      <td>n02112018_1024.xml</td>\n",
       "      <td>45</td>\n",
       "      <td>74</td>\n",
       "      <td>454</td>\n",
       "      <td>300</td>\n",
       "      <td>n02112018</td>\n",
       "      <td>0</td>\n",
       "      <td>Pomeranian</td>\n",
       "    </tr>\n",
       "    <tr>\n",
       "      <th>17</th>\n",
       "      <td>n02112018_1090.xml</td>\n",
       "      <td>6</td>\n",
       "      <td>45</td>\n",
       "      <td>405</td>\n",
       "      <td>453</td>\n",
       "      <td>n02112018</td>\n",
       "      <td>0</td>\n",
       "      <td>Pomeranian</td>\n",
       "    </tr>\n",
       "    <tr>\n",
       "      <th>18</th>\n",
       "      <td>n02112018_150.xml</td>\n",
       "      <td>312</td>\n",
       "      <td>14</td>\n",
       "      <td>165</td>\n",
       "      <td>203</td>\n",
       "      <td>n02112018</td>\n",
       "      <td>0</td>\n",
       "      <td>Pomeranian</td>\n",
       "    </tr>\n",
       "    <tr>\n",
       "      <th>19</th>\n",
       "      <td>n02112018_150.xml</td>\n",
       "      <td>42</td>\n",
       "      <td>16</td>\n",
       "      <td>133</td>\n",
       "      <td>196</td>\n",
       "      <td>n02112018</td>\n",
       "      <td>0</td>\n",
       "      <td>Pomeranian</td>\n",
       "    </tr>\n",
       "    <tr>\n",
       "      <th>20</th>\n",
       "      <td>n02112018_161.xml</td>\n",
       "      <td>9</td>\n",
       "      <td>0</td>\n",
       "      <td>444</td>\n",
       "      <td>373</td>\n",
       "      <td>n02112018</td>\n",
       "      <td>0</td>\n",
       "      <td>Pomeranian</td>\n",
       "    </tr>\n",
       "    <tr>\n",
       "      <th>21</th>\n",
       "      <td>n02112018_26.xml</td>\n",
       "      <td>135</td>\n",
       "      <td>67</td>\n",
       "      <td>268</td>\n",
       "      <td>230</td>\n",
       "      <td>n02112018</td>\n",
       "      <td>0</td>\n",
       "      <td>Pomeranian</td>\n",
       "    </tr>\n",
       "    <tr>\n",
       "      <th>22</th>\n",
       "      <td>n02112018_2821.xml</td>\n",
       "      <td>77</td>\n",
       "      <td>113</td>\n",
       "      <td>208</td>\n",
       "      <td>110</td>\n",
       "      <td>n02112018</td>\n",
       "      <td>0</td>\n",
       "      <td>Pomeranian</td>\n",
       "    </tr>\n",
       "    <tr>\n",
       "      <th>23</th>\n",
       "      <td>n02112018_2846.xml</td>\n",
       "      <td>0</td>\n",
       "      <td>0</td>\n",
       "      <td>283</td>\n",
       "      <td>323</td>\n",
       "      <td>n02112018</td>\n",
       "      <td>0</td>\n",
       "      <td>Pomeranian</td>\n",
       "    </tr>\n",
       "    <tr>\n",
       "      <th>24</th>\n",
       "      <td>n02112018_436.xml</td>\n",
       "      <td>0</td>\n",
       "      <td>57</td>\n",
       "      <td>380</td>\n",
       "      <td>302</td>\n",
       "      <td>n02112018</td>\n",
       "      <td>0</td>\n",
       "      <td>Pomeranian</td>\n",
       "    </tr>\n",
       "    <tr>\n",
       "      <th>25</th>\n",
       "      <td>n02112018_460.xml</td>\n",
       "      <td>0</td>\n",
       "      <td>40</td>\n",
       "      <td>335</td>\n",
       "      <td>392</td>\n",
       "      <td>n02112018</td>\n",
       "      <td>0</td>\n",
       "      <td>Pomeranian</td>\n",
       "    </tr>\n",
       "    <tr>\n",
       "      <th>26</th>\n",
       "      <td>n02112018_514.xml</td>\n",
       "      <td>62</td>\n",
       "      <td>11</td>\n",
       "      <td>350</td>\n",
       "      <td>487</td>\n",
       "      <td>n02112018</td>\n",
       "      <td>0</td>\n",
       "      <td>Pomeranian</td>\n",
       "    </tr>\n",
       "    <tr>\n",
       "      <th>27</th>\n",
       "      <td>n02112018_541.xml</td>\n",
       "      <td>20</td>\n",
       "      <td>2</td>\n",
       "      <td>478</td>\n",
       "      <td>484</td>\n",
       "      <td>n02112018</td>\n",
       "      <td>0</td>\n",
       "      <td>Pomeranian</td>\n",
       "    </tr>\n",
       "  </tbody>\n",
       "</table>\n",
       "</div>"
      ],
      "text/plain": [
       "        image_filename    x    y    w    h      label class_index  \\\n",
       "0   n02110185_1548.xml  224   35  188  339  n02110185           1   \n",
       "1   n02110185_1552.xml  118   73   94  274  n02110185           1   \n",
       "2   n02110185_1598.xml  136   32  196  466  n02110185           1   \n",
       "3   n02110185_1614.xml  145   22  241  310  n02110185           1   \n",
       "4    n02110185_352.xml   55   57  259  316  n02110185           1   \n",
       "5    n02110185_388.xml    3   57  495  272  n02110185           1   \n",
       "6    n02110185_519.xml  199    3  295  370  n02110185           1   \n",
       "7     n02110185_56.xml  110  103  142  295  n02110185           1   \n",
       "8    n02110185_582.xml    0   38  499  267  n02110185           1   \n",
       "9    n02110185_698.xml   28    6  290  476  n02110185           1   \n",
       "10   n02110185_699.xml    0    0  473  465  n02110185           1   \n",
       "11   n02110185_815.xml    2   66  228  307  n02110185           1   \n",
       "12   n02110185_815.xml  168  138  331  229  n02110185           1   \n",
       "13   n02110185_931.xml  172   36  186  207  n02110185           1   \n",
       "14   n02110185_931.xml   49    1  109  189  n02110185           1   \n",
       "15   n02110185_931.xml    0    2   44   55  n02110185           1   \n",
       "16  n02112018_1024.xml   45   74  454  300  n02112018           0   \n",
       "17  n02112018_1090.xml    6   45  405  453  n02112018           0   \n",
       "18   n02112018_150.xml  312   14  165  203  n02112018           0   \n",
       "19   n02112018_150.xml   42   16  133  196  n02112018           0   \n",
       "20   n02112018_161.xml    9    0  444  373  n02112018           0   \n",
       "21    n02112018_26.xml  135   67  268  230  n02112018           0   \n",
       "22  n02112018_2821.xml   77  113  208  110  n02112018           0   \n",
       "23  n02112018_2846.xml    0    0  283  323  n02112018           0   \n",
       "24   n02112018_436.xml    0   57  380  302  n02112018           0   \n",
       "25   n02112018_460.xml    0   40  335  392  n02112018           0   \n",
       "26   n02112018_514.xml   62   11  350  487  n02112018           0   \n",
       "27   n02112018_541.xml   20    2  478  484  n02112018           0   \n",
       "\n",
       "        class_name  \n",
       "0   Siberian husky  \n",
       "1   Siberian husky  \n",
       "2   Siberian husky  \n",
       "3   Siberian husky  \n",
       "4   Siberian husky  \n",
       "5   Siberian husky  \n",
       "6   Siberian husky  \n",
       "7   Siberian husky  \n",
       "8   Siberian husky  \n",
       "9   Siberian husky  \n",
       "10  Siberian husky  \n",
       "11  Siberian husky  \n",
       "12  Siberian husky  \n",
       "13  Siberian husky  \n",
       "14  Siberian husky  \n",
       "15  Siberian husky  \n",
       "16      Pomeranian  \n",
       "17      Pomeranian  \n",
       "18      Pomeranian  \n",
       "19      Pomeranian  \n",
       "20      Pomeranian  \n",
       "21      Pomeranian  \n",
       "22      Pomeranian  \n",
       "23      Pomeranian  \n",
       "24      Pomeranian  \n",
       "25      Pomeranian  \n",
       "26      Pomeranian  \n",
       "27      Pomeranian  "
      ]
     },
     "execution_count": 11,
     "metadata": {},
     "output_type": "execute_result"
    }
   ],
   "source": [
    "df_bbox_info"
   ]
  },
  {
   "cell_type": "code",
   "execution_count": 13,
   "metadata": {},
   "outputs": [],
   "source": [
    "# gt_boxesの形に整える\n",
    "# TODO: gt_boxesを作らずにgt_box_tensorsを直接作りたい（入力データをテンソルに整える際にクラスラベルが必要になるため）\n",
    "gt_boxes = [df.values.reshape(1, -1).astype(np.float32)/1000 for _, df in df_bbox_info[['x', 'y', 'w', 'h']].iterrows()]"
   ]
  },
  {
   "cell_type": "code",
   "execution_count": 14,
   "metadata": {},
   "outputs": [
    {
     "data": {
      "text/plain": [
       "Text(0.5, 1.0, 'class=Siberian husky')"
      ]
     },
     "execution_count": 14,
     "metadata": {},
     "output_type": "execute_result"
    },
    {
     "data": {
      "image/png": "[encoded data removed]",
      "text/plain": [
       "<Figure size 432x288 with 1 Axes>"
      ]
     },
     "metadata": {
      "needs_background": "light"
     },
     "output_type": "display_data"
    }
   ],
   "source": [
    "# 訓練データの表示\n",
    "x_train, y_train = next(dataloader_ins.train_generator)\n",
    "x_train, y_train = x_train[0], y_train[0]  # 1枚だけ画像を取得\n",
    "i_label = y_train.argmax() # one-hotから答えのラベルを取得\n",
    "ans = indeces_to_labels[i_label]\n",
    "\n",
    "plt.imshow(x_train)\n",
    "plt.title('class=' + ans)"
   ]
  },
  {
   "cell_type": "code",
   "execution_count": 15,
   "metadata": {},
   "outputs": [
    {
     "data": {
      "text/plain": [
       "(255, 255, 3)"
      ]
     },
     "execution_count": 15,
     "metadata": {},
     "output_type": "execute_result"
    }
   ],
   "source": [
    "x_train.shape"
   ]
  },
  {
   "cell_type": "code",
   "execution_count": 16,
   "metadata": {},
   "outputs": [],
   "source": [
    "train_images_np = [x_train for _ in range(len(gt_boxes))]"
   ]
  },
  {
   "cell_type": "code",
   "execution_count": null,
   "metadata": {},
   "outputs": [],
   "source": []
  },
  {
   "cell_type": "code",
   "execution_count": null,
   "metadata": {},
   "outputs": [],
   "source": []
  },
  {
   "cell_type": "raw",
   "metadata": {},
   "source": [
    "train_images_np[0].shape"
   ]
  },
  {
   "cell_type": "raw",
   "metadata": {},
   "source": [
    "x_train.shape"
   ]
  },
  {
   "cell_type": "raw",
   "metadata": {},
   "source": [
    "gt_boxes"
   ]
  },
  {
   "cell_type": "code",
   "execution_count": null,
   "metadata": {},
   "outputs": [],
   "source": []
  },
  {
   "cell_type": "code",
   "execution_count": null,
   "metadata": {},
   "outputs": [],
   "source": []
  },
  {
   "cell_type": "raw",
   "metadata": {
    "colab": {},
    "colab_type": "code",
    "id": "SQy3ND7EpFQM"
   },
   "source": [
    "# Load images and visualize\n",
    "train_image_dir = models_path + '/research/object_detection/test_images/ducky/train/'\n",
    "train_images_np = []\n",
    "for i in range(1, 6):\n",
    "  image_path = os.path.join(train_image_dir, 'robertducky' + str(i) + '.jpg')\n",
    "  train_images_np.append(load_image_into_numpy_array(image_path))\n",
    "\n",
    "plt.rcParams['axes.grid'] = False\n",
    "plt.rcParams['xtick.labelsize'] = False\n",
    "plt.rcParams['ytick.labelsize'] = False\n",
    "plt.rcParams['xtick.top'] = False\n",
    "plt.rcParams['xtick.bottom'] = False\n",
    "plt.rcParams['ytick.left'] = False\n",
    "plt.rcParams['ytick.right'] = False\n",
    "plt.rcParams['figure.figsize'] = [14, 7]\n",
    "\n",
    "for idx, train_image_np in enumerate(train_images_np):\n",
    "  plt.subplot(2, 3, idx+1)\n",
    "  plt.imshow(train_image_np)\n",
    "plt.show()"
   ]
  },
  {
   "cell_type": "raw",
   "metadata": {},
   "source": [
    "train_images_np[0].shape"
   ]
  },
  {
   "cell_type": "markdown",
   "metadata": {
    "colab_type": "text",
    "id": "cbKXmQoxcUgE"
   },
   "source": [
    "# Annotate images with bounding boxes\n",
    "\n",
    "In this cell you will annotate the rubber duckies --- draw a box around the rubber ducky in each image; click `next image` to go to the next image and `submit` when there are no more images.\n",
    "\n",
    "If you'd like to skip the manual annotation step, we totally understand.  In this case, simply skip this cell and run the next cell instead, where we've prepopulated the groundtruth with pre-annotated bounding boxes.\n",
    "\n"
   ]
  },
  {
   "cell_type": "raw",
   "metadata": {
    "colab": {},
    "colab_type": "code",
    "id": "-nEDRoUEcUgL"
   },
   "source": [
    "gt_boxes = []\n",
    "colab_utils.annotate(train_images_np, box_storage_pointer=gt_boxes)"
   ]
  },
  {
   "cell_type": "markdown",
   "metadata": {
    "colab_type": "text",
    "id": "wTP9AFqecUgS"
   },
   "source": [
    "# In case you didn't want to label...\n",
    "\n",
    "Run this cell only if you didn't annotate anything above and\n",
    "would prefer to just use our preannotated boxes.  Don't forget\n",
    "to uncomment."
   ]
  },
  {
   "cell_type": "raw",
   "metadata": {
    "colab": {},
    "colab_type": "code",
    "id": "wIAT6ZUmdHOC"
   },
   "source": [
    "gt_boxes = [\n",
    "             np.array([[0.436, 0.591, 0.629, 0.712]], dtype=np.float32),\n",
    "             np.array([[0.539, 0.583, 0.73, 0.71]], dtype=np.float32),\n",
    "             np.array([[0.464, 0.414, 0.626, 0.548]], dtype=np.float32),\n",
    "             np.array([[0.313, 0.308, 0.648, 0.526]], dtype=np.float32),\n",
    "             np.array([[0.256, 0.444, 0.484, 0.629]], dtype=np.float32)\n",
    "]"
   ]
  },
  {
   "cell_type": "raw",
   "metadata": {},
   "source": [
    "gt_boxes"
   ]
  },
  {
   "cell_type": "markdown",
   "metadata": {
    "colab_type": "text",
    "id": "Dqb_yjAo3cO_"
   },
   "source": [
    "# Prepare data for training\n",
    "\n",
    "Below we add the class annotations (for simplicity, we assume a single class in this colab; though it should be straightforward to extend this to handle multiple classes).  We also convert everything to the format that the training\n",
    "loop below expects (e.g., everything converted to tensors, classes converted to one-hot representations, etc.)."
   ]
  },
  {
   "cell_type": "code",
   "execution_count": 17,
   "metadata": {
    "colab": {},
    "colab_type": "code",
    "id": "HWBqFVMcweF-"
   },
   "outputs": [
    {
     "name": "stdout",
     "output_type": "stream",
     "text": [
      "Done prepping data.\n"
     ]
    }
   ],
   "source": [
    "\n",
    "# By convention, our non-background classes start counting at 1.  Given\n",
    "# that we will be predicting just one class, we will therefore assign it a\n",
    "# `class id` of 1.\n",
    "duck_class_id = 1\n",
    "num_classes = 2\n",
    "\n",
    "category_index = {duck_class_id: {'id': duck_class_id, 'name': 'rubber_ducky'}}\n",
    "\n",
    "# Convert class labels to one-hot; convert everything to tensors.\n",
    "# The `label_id_offset` here shifts all classes by a certain number of indices;\n",
    "# we do this here so that the model receives one-hot labels where non-background\n",
    "# classes start counting at the zeroth index.  This is ordinarily just handled\n",
    "# automatically in our training binaries, but we need to reproduce it here.\n",
    "label_id_offset = 1\n",
    "train_image_tensors = []\n",
    "gt_classes_one_hot_tensors = []\n",
    "gt_box_tensors = []\n",
    "for i, (train_image_np, gt_box_np) in enumerate(zip(\n",
    "    train_images_np, gt_boxes)):\n",
    "  train_image_tensors.append(tf.expand_dims(tf.convert_to_tensor(\n",
    "      train_image_np, dtype=tf.float32), axis=0))\n",
    "  gt_box_tensors.append(tf.convert_to_tensor(gt_box_np, dtype=tf.float32))\n",
    "  #zero_indexed_groundtruth_classes = tf.convert_to_tensor(\n",
    "  #      np.ones(shape=[gt_box_np.shape[0]], dtype=np.int32) - label_id_offset)\n",
    "  zero_indexed_groundtruth_classes = tf.convert_to_tensor(\n",
    "      np.zeros(shape=[gt_box_np.shape[0]], dtype=np.int32) + df_bbox_info.loc[i, 'class_index'])\n",
    "  gt_classes_one_hot_tensors.append(tf.one_hot(\n",
    "      zero_indexed_groundtruth_classes, num_classes))\n",
    "print('Done prepping data.')\n"
   ]
  },
  {
   "cell_type": "markdown",
   "metadata": {
    "colab_type": "text",
    "id": "b3_Z3mJWN9KJ"
   },
   "source": [
    "# Let's just visualize the rubber duckies as a sanity check\n"
   ]
  },
  {
   "cell_type": "code",
   "execution_count": 18,
   "metadata": {},
   "outputs": [
    {
     "data": {
      "text/plain": [
       "{1: {'id': 1, 'name': 'rubber_ducky'}}"
      ]
     },
     "execution_count": 18,
     "metadata": {},
     "output_type": "execute_result"
    }
   ],
   "source": [
    "category_index"
   ]
  },
  {
   "cell_type": "code",
   "execution_count": 19,
   "metadata": {},
   "outputs": [
    {
     "data": {
      "text/plain": [
       "{0: 'Pomeranian', 1: 'Siberian husky'}"
      ]
     },
     "execution_count": 19,
     "metadata": {},
     "output_type": "execute_result"
    }
   ],
   "source": [
    "indeces_to_labels"
   ]
  },
  {
   "cell_type": "code",
   "execution_count": 20,
   "metadata": {},
   "outputs": [],
   "source": [
    "category_index = {0: {'id': 1, 'name': 'Pomeranian'}, 1: {'id': 2, 'name': 'Siberian husky'}}"
   ]
  },
  {
   "cell_type": "code",
   "execution_count": 21,
   "metadata": {
    "colab": {},
    "colab_type": "code",
    "id": "YBD6l-E4N71y"
   },
   "outputs": [
    {
     "name": "stderr",
     "output_type": "stream",
     "text": [
      "Clipping input data to the valid range for imshow with RGB data ([0..1] for floats or [0..255] for integers).\n",
      "Clipping input data to the valid range for imshow with RGB data ([0..1] for floats or [0..255] for integers).\n",
      "Clipping input data to the valid range for imshow with RGB data ([0..1] for floats or [0..255] for integers).\n",
      "Clipping input data to the valid range for imshow with RGB data ([0..1] for floats or [0..255] for integers).\n",
      "Clipping input data to the valid range for imshow with RGB data ([0..1] for floats or [0..255] for integers).\n"
     ]
    },
    {
     "data": {
      "image/png": "[encoded data removed]",
      "text/plain": [
       "<Figure size 2160x1080 with 5 Axes>"
      ]
     },
     "metadata": {
      "needs_background": "light"
     },
     "output_type": "display_data"
    }
   ],
   "source": [
    "dummy_scores = np.array([1.0], dtype=np.float32)  # give boxes a score of 100%\n",
    "\n",
    "plt.figure(figsize=(30, 15))\n",
    "for idx in range(5):\n",
    "  plt.subplot(2,3, idx+1)\n",
    "  idx += 15\n",
    "  plot_detections(\n",
    "      train_images_np[idx],\n",
    "      gt_boxes[idx],\n",
    "      np.zeros(shape=[gt_boxes[idx].shape[0]], dtype=np.int32)+df_bbox_info.loc[idx, 'class_index'],\n",
    "      dummy_scores, category_index)\n",
    "plt.show()"
   ]
  },
  {
   "cell_type": "markdown",
   "metadata": {
    "colab_type": "text",
    "id": "ghDAsqfoZvPh"
   },
   "source": [
    "# Create model and restore weights for all but last layer\n",
    "\n",
    "In this cell we build a single stage detection architecture (RetinaNet) and restore all but the classification layer at the top (which will be automatically randomly initialized).\n",
    "\n",
    "For simplicity, we have hardcoded a number of things in this colab for the specific RetinaNet architecture at hand (including assuming that the image size will always be 640x640), however it is not difficult to generalize to other model configurations."
   ]
  },
  {
   "cell_type": "code",
   "execution_count": 22,
   "metadata": {},
   "outputs": [
    {
     "data": {
      "text/plain": [
       "'/home/tensorflow/models'"
      ]
     },
     "execution_count": 22,
     "metadata": {},
     "output_type": "execute_result"
    }
   ],
   "source": [
    "models_path"
   ]
  },
  {
   "cell_type": "code",
   "execution_count": 23,
   "metadata": {
    "colab": {},
    "colab_type": "code",
    "id": "9J16r3NChD-7"
   },
   "outputs": [
    {
     "name": "stdout",
     "output_type": "stream",
     "text": [
      "--2020-10-17 03:27:19--  http://download.tensorflow.org/models/object_detection/tf2/20200711/ssd_resnet50_v1_fpn_640x640_coco17_tpu-8.tar.gz\n",
      "Resolving download.tensorflow.org (download.tensorflow.org)... 172.217.161.48, 2404:6800:4004:809::2010\n",
      "Connecting to download.tensorflow.org (download.tensorflow.org)|172.217.161.48|:80... connected.\n",
      "HTTP request sent, awaiting response... 200 OK\n",
      "Length: 244817203 (233M) [application/x-tar]\n",
      "Saving to: ‘ssd_resnet50_v1_fpn_640x640_coco17_tpu-8.tar.gz.2’\n",
      "\n",
      "ssd_resnet50_v1_fpn 100%[===================>] 233.48M  6.93MB/s    in 32s     \n",
      "\n",
      "2020-10-17 03:27:52 (7.26 MB/s) - ‘ssd_resnet50_v1_fpn_640x640_coco17_tpu-8.tar.gz.2’ saved [244817203/244817203]\n",
      "\n",
      "mv: cannot move 'ssd_resnet50_v1_fpn_640x640_coco17_tpu-8/checkpoint' to 'object_detection/test_data/checkpoint': Directory not empty\n"
     ]
    }
   ],
   "source": [
    "# Download the checkpoint and put it into models/research/object_detection/test_data/\n",
    "\n",
    "!wget http://download.tensorflow.org/models/object_detection/tf2/20200711/ssd_resnet50_v1_fpn_640x640_coco17_tpu-8.tar.gz\n",
    "!tar -xf ssd_resnet50_v1_fpn_640x640_coco17_tpu-8.tar.gz\n",
    "!mv ssd_resnet50_v1_fpn_640x640_coco17_tpu-8/checkpoint object_detection/test_data/"
   ]
  },
  {
   "cell_type": "code",
   "execution_count": 24,
   "metadata": {
    "colab": {},
    "colab_type": "code",
    "id": "RyT4BUbaMeG-"
   },
   "outputs": [
    {
     "name": "stdout",
     "output_type": "stream",
     "text": [
      "Building model and restoring weights for fine-tuning...\n",
      "Weights restored!\n"
     ]
    }
   ],
   "source": [
    "tf.keras.backend.clear_session()\n",
    "\n",
    "print('Building model and restoring weights for fine-tuning...', flush=True)\n",
    "num_classes = 2\n",
    "pipeline_config = models_path + '/research/object_detection/configs/tf2/ssd_resnet50_v1_fpn_640x640_coco17_tpu-8.config'\n",
    "checkpoint_path = models_path + '/research/object_detection/test_data/checkpoint/ckpt-0'\n",
    "\n",
    "# Load pipeline config and build a detection model.\n",
    "#\n",
    "# Since we are working off of a COCO architecture which predicts 90\n",
    "# class slots by default, we override the `num_classes` field here to be just\n",
    "# one (for our new rubber ducky class).\n",
    "configs = config_util.get_configs_from_pipeline_file(pipeline_config)\n",
    "model_config = configs['model']\n",
    "model_config.ssd.num_classes = num_classes\n",
    "model_config.ssd.freeze_batchnorm = True\n",
    "detection_model = model_builder.build(\n",
    "      model_config=model_config, is_training=True)\n",
    "\n",
    "# Set up object-based checkpoint restore --- RetinaNet has two prediction\n",
    "# `heads` --- one for classification, the other for box regression.  We will\n",
    "# restore the box regression head but initialize the classification head\n",
    "# from scratch (we show the omission below by commenting out the line that\n",
    "# we would add if we wanted to restore both heads)\n",
    "fake_box_predictor = tf.compat.v2.train.Checkpoint(\n",
    "    _base_tower_layers_for_heads=detection_model._box_predictor._base_tower_layers_for_heads,\n",
    "    # _prediction_heads=detection_model._box_predictor._prediction_heads,\n",
    "    #    (i.e., the classification head that we *will not* restore)\n",
    "    _box_prediction_head=detection_model._box_predictor._box_prediction_head,\n",
    "    )\n",
    "fake_model = tf.compat.v2.train.Checkpoint(\n",
    "          _feature_extractor=detection_model._feature_extractor,\n",
    "          _box_predictor=fake_box_predictor)\n",
    "ckpt = tf.compat.v2.train.Checkpoint(model=fake_model)\n",
    "ckpt.restore(checkpoint_path).expect_partial()\n",
    "\n",
    "# Run model through a dummy image so that variables are created\n",
    "image, shapes = detection_model.preprocess(tf.zeros([1, 640, 640, 3]))\n",
    "prediction_dict = detection_model.predict(image, shapes)\n",
    "_ = detection_model.postprocess(prediction_dict, shapes)\n",
    "print('Weights restored!')"
   ]
  },
  {
   "cell_type": "markdown",
   "metadata": {
    "colab_type": "text",
    "id": "pCkWmdoZZ0zJ"
   },
   "source": [
    "# Eager mode custom training loop\n",
    "\n"
   ]
  },
  {
   "cell_type": "code",
   "execution_count": 25,
   "metadata": {
    "colab": {},
    "colab_type": "code",
    "id": "nyHoF4mUrv5-"
   },
   "outputs": [
    {
     "name": "stdout",
     "output_type": "stream",
     "text": [
      "Start fine-tuning!\n",
      "batch 0 of 100, loss=2.3131814\n",
      "batch 10 of 100, loss=1.0540497\n",
      "batch 20 of 100, loss=2.2730477\n",
      "batch 30 of 100, loss=1.9709905\n",
      "batch 40 of 100, loss=1.2745146\n",
      "batch 50 of 100, loss=1.1889162\n",
      "batch 60 of 100, loss=1.749852\n",
      "batch 70 of 100, loss=1.9057565\n",
      "batch 80 of 100, loss=2.3592167\n",
      "batch 90 of 100, loss=4.586762\n",
      "Done fine-tuning!\n"
     ]
    }
   ],
   "source": [
    "tf.keras.backend.set_learning_phase(True)\n",
    "\n",
    "# These parameters can be tuned; since our training set has 5 images\n",
    "# it doesn't make sense to have a much larger batch size, though we could\n",
    "# fit more examples in memory if we wanted to.\n",
    "batch_size = 4\n",
    "learning_rate = 0.01\n",
    "num_batches = 100\n",
    "\n",
    "# Select variables in top layers to fine-tune.\n",
    "trainable_variables = detection_model.trainable_variables\n",
    "to_fine_tune = []\n",
    "prefixes_to_train = [\n",
    "  'WeightSharedConvolutionalBoxPredictor/WeightSharedConvolutionalBoxHead',\n",
    "  'WeightSharedConvolutionalBoxPredictor/WeightSharedConvolutionalClassHead']\n",
    "for var in trainable_variables:\n",
    "  if any([var.name.startswith(prefix) for prefix in prefixes_to_train]):\n",
    "    to_fine_tune.append(var)\n",
    "\n",
    "# Set up forward + backward pass for a single train step.\n",
    "def get_model_train_step_function(model, optimizer, vars_to_fine_tune):\n",
    "  \"\"\"Get a tf.function for training step.\"\"\"\n",
    "\n",
    "  # Use tf.function for a bit of speed.\n",
    "  # Comment out the tf.function decorator if you want the inside of the\n",
    "  # function to run eagerly.\n",
    "  @tf.function\n",
    "  def train_step_fn(image_tensors,\n",
    "                    groundtruth_boxes_list,\n",
    "                    groundtruth_classes_list):\n",
    "    \"\"\"A single training iteration.\n",
    "\n",
    "    Args:\n",
    "      image_tensors: A list of [1, height, width, 3] Tensor of type tf.float32.\n",
    "        Note that the height and width can vary across images, as they are\n",
    "        reshaped within this function to be 640x640.\n",
    "      groundtruth_boxes_list: A list of Tensors of shape [N_i, 4] with type\n",
    "        tf.float32 representing groundtruth boxes for each image in the batch.\n",
    "      groundtruth_classes_list: A list of Tensors of shape [N_i, num_classes]\n",
    "        with type tf.float32 representing groundtruth boxes for each image in\n",
    "        the batch.\n",
    "\n",
    "    Returns:\n",
    "      A scalar tensor representing the total loss for the input batch.\n",
    "    \"\"\"\n",
    "    shapes = tf.constant(batch_size * [[640, 640, 3]], dtype=tf.int32)\n",
    "    model.provide_groundtruth(\n",
    "        groundtruth_boxes_list=groundtruth_boxes_list,\n",
    "        groundtruth_classes_list=groundtruth_classes_list)\n",
    "    with tf.GradientTape() as tape:\n",
    "      preprocessed_images = tf.concat(\n",
    "          [detection_model.preprocess(image_tensor)[0]\n",
    "           for image_tensor in image_tensors], axis=0)\n",
    "      prediction_dict = model.predict(preprocessed_images, shapes)\n",
    "      losses_dict = model.loss(prediction_dict, shapes)\n",
    "      total_loss = losses_dict['Loss/localization_loss'] + losses_dict['Loss/classification_loss']\n",
    "      gradients = tape.gradient(total_loss, vars_to_fine_tune)\n",
    "      optimizer.apply_gradients(zip(gradients, vars_to_fine_tune))\n",
    "    return total_loss\n",
    "\n",
    "  return train_step_fn\n",
    "\n",
    "optimizer = tf.keras.optimizers.SGD(learning_rate=learning_rate, momentum=0.9)\n",
    "train_step_fn = get_model_train_step_function(\n",
    "    detection_model, optimizer, to_fine_tune)\n",
    "\n",
    "print('Start fine-tuning!', flush=True)\n",
    "for idx in range(num_batches):\n",
    "  # Grab keys for a random subset of examples\n",
    "  all_keys = list(range(len(train_images_np)))\n",
    "  random.shuffle(all_keys)\n",
    "  example_keys = all_keys[:batch_size]\n",
    "\n",
    "  # Note that we do not do data augmentation in this demo.  If you want a\n",
    "  # a fun exercise, we recommend experimenting with random horizontal flipping\n",
    "  # and random cropping :)\n",
    "  gt_boxes_list = [gt_box_tensors[key] for key in example_keys]\n",
    "  gt_classes_list = [gt_classes_one_hot_tensors[key] for key in example_keys]\n",
    "  image_tensors = [train_image_tensors[key] for key in example_keys]\n",
    "\n",
    "  # Training step (forward pass + backwards pass)\n",
    "  total_loss = train_step_fn(image_tensors, gt_boxes_list, gt_classes_list)\n",
    "\n",
    "  if idx % 10 == 0:\n",
    "    print('batch ' + str(idx) + ' of ' + str(num_batches)\n",
    "    + ', loss=' +  str(total_loss.numpy()), flush=True)\n",
    "\n",
    "print('Done fine-tuning!')"
   ]
  },
  {
   "cell_type": "markdown",
   "metadata": {
    "colab_type": "text",
    "id": "WHlXL1x_Z3tc"
   },
   "source": [
    "# Load test images and run inference with new model!"
   ]
  },
  {
   "cell_type": "code",
   "execution_count": null,
   "metadata": {
    "colab": {},
    "colab_type": "code",
    "id": "WcE6OwrHQJya"
   },
   "outputs": [],
   "source": [
    "test_image_dir = models_path + '/research/object_detection/test_images/ducky/test/'\n",
    "test_images_np = []\n",
    "for i in range(1, 50):\n",
    "  image_path = os.path.join(test_image_dir, 'out' + str(i) + '.jpg')\n",
    "  test_images_np.append(np.expand_dims(\n",
    "      load_image_into_numpy_array(image_path), axis=0))\n",
    "\n",
    "# Again, uncomment this decorator if you want to run inference eagerly\n",
    "@tf.function\n",
    "def detect(input_tensor):\n",
    "  \"\"\"Run detection on an input image.\n",
    "\n",
    "  Args:\n",
    "    input_tensor: A [1, height, width, 3] Tensor of type tf.float32.\n",
    "      Note that height and width can be anything since the image will be\n",
    "      immediately resized according to the needs of the model within this\n",
    "      function.\n",
    "\n",
    "  Returns:\n",
    "    A dict containing 3 Tensors (`detection_boxes`, `detection_classes`,\n",
    "      and `detection_scores`).\n",
    "  \"\"\"\n",
    "  preprocessed_image, shapes = detection_model.preprocess(input_tensor)\n",
    "  prediction_dict = detection_model.predict(preprocessed_image, shapes)\n",
    "  return detection_model.postprocess(prediction_dict, shapes)\n",
    "\n",
    "# Note that the first frame will trigger tracing of the tf.function, which will\n",
    "# take some time, after which inference should be fast.\n",
    "\n",
    "label_id_offset = 1\n",
    "for i in range(len(test_images_np)):\n",
    "  input_tensor = tf.convert_to_tensor(test_images_np[i], dtype=tf.float32)\n",
    "  detections = detect(input_tensor)\n",
    "\n",
    "  plot_detections(\n",
    "      test_images_np[i][0],\n",
    "      detections['detection_boxes'][0].numpy(),\n",
    "      detections['detection_classes'][0].numpy().astype(np.uint32)\n",
    "      + label_id_offset,\n",
    "      detections['detection_scores'][0].numpy(),\n",
    "      category_index, figsize=(15, 20), image_name=\"gif_frame_\" + ('%02d' % i) + \".jpg\")"
   ]
  },
  {
   "cell_type": "code",
   "execution_count": null,
   "metadata": {
    "colab": {},
    "colab_type": "code",
    "id": "RW1FrT2iNnpy"
   },
   "outputs": [],
   "source": [
    "imageio.plugins.freeimage.download()\n",
    "\n",
    "anim_file = 'duckies_test.gif'\n",
    "\n",
    "filenames = glob.glob('gif_frame_*.jpg')\n",
    "filenames = sorted(filenames)\n",
    "last = -1\n",
    "images = []\n",
    "for filename in filenames:\n",
    "  image = imageio.imread(filename)\n",
    "  images.append(image)\n",
    "\n",
    "imageio.mimsave(anim_file, images, 'GIF-FI', fps=5)\n",
    "\n",
    "display(IPyImage(open(anim_file, 'rb').read()))"
   ]
  }
 ],
 "metadata": {
  "accelerator": "GPU",
  "colab": {
   "collapsed_sections": [],
   "name": "interactive_eager_few_shot_od_training_colab.ipynb",
   "provenance": []
  },
  "kernelspec": {
   "display_name": "Python 3",
   "language": "python",
   "name": "python3"
  },
  "language_info": {
   "codemirror_mode": {
    "name": "ipython",
    "version": 3
   },
   "file_extension": ".py",
   "mimetype": "text/x-python",
   "name": "python",
   "nbconvert_exporter": "python",
   "pygments_lexer": "ipython3",
   "version": "3.6.9"
  }
 },
 "nbformat": 4,
 "nbformat_minor": 4
}
