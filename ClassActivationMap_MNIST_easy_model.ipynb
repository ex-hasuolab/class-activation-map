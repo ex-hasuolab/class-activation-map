{
 "cells": [
  {
   "cell_type": "markdown",
   "metadata": {},
   "source": [
    "# MNISTデータを簡単なCNNモデルで学習し、ClassActivationMapを表示する"
   ]
  },
  {
   "cell_type": "code",
   "execution_count": 1,
   "metadata": {
    "scrolled": true
   },
   "outputs": [
    {
     "name": "stderr",
     "output_type": "stream",
     "text": [
      "Using TensorFlow backend.\n"
     ]
    }
   ],
   "source": [
    "import numpy as np\n",
    "import matplotlib.pyplot as plt\n",
    "import tensorflow as tf\n",
    "from keras.datasets import mnist\n",
    "from keras.utils import np_utils\n",
    "\n",
    "from dataloader import Dataloader\n",
    "from solver import Solver"
   ]
  },
  {
   "cell_type": "code",
   "execution_count": 2,
   "metadata": {},
   "outputs": [
    {
     "name": "stdout",
     "output_type": "stream",
     "text": [
      "1 Physical GPUs, 1 Logical GPUs\n"
     ]
    }
   ],
   "source": [
    "# tensorflow GPU用の設定\n",
    "gpus = tf.config.experimental.list_physical_devices('GPU')\n",
    "if gpus:\n",
    "    try:\n",
    "        # Restrict TensorFlow to only use the fourth GPU\n",
    "        tf.config.experimental.set_visible_devices(gpus[0], 'GPU')\n",
    "\n",
    "        # Currently, memory growth needs to be the same across GPUs\n",
    "        for gpu in gpus:\n",
    "            tf.config.experimental.set_memory_growth(gpu, True)\n",
    "        logical_gpus = tf.config.experimental.list_logical_devices('GPU')\n",
    "        print(len(gpus), \"Physical GPUs,\", len(logical_gpus), \"Logical GPUs\")\n",
    "    except RuntimeError as e:\n",
    "        # Memory growth must be set before GPUs have been initialized\n",
    "        print(e)"
   ]
  },
  {
   "cell_type": "markdown",
   "metadata": {},
   "source": [
    "# データのダウンロード"
   ]
  },
  {
   "cell_type": "code",
   "execution_count": 4,
   "metadata": {},
   "outputs": [
    {
     "name": "stdout",
     "output_type": "stream",
     "text": [
      "x_train shape : (500, 28, 28, 1)\n",
      "y_train shape : (500, 10)\n"
     ]
    }
   ],
   "source": [
    "dataloader_ins = Dataloader()\n",
    "dataloader_ins.get_mnist_data(resize_mode=False, resize_shape=None, cvtColor_mode = False)\n",
    "\n",
    "print(\"x_train shape : {}\".format(dataloader_ins.x_train.shape))\n",
    "print(\"y_train shape : {}\".format(dataloader_ins.y_train.shape))"
   ]
  },
  {
   "cell_type": "code",
   "execution_count": 5,
   "metadata": {},
   "outputs": [
    {
     "data": {
      "text/plain": [
       "Text(0.5, 1.0, 'ans=1')"
      ]
     },
     "execution_count": 5,
     "metadata": {},
     "output_type": "execute_result"
    },
    {
     "data": {
      "image/png": "[encoded data removed]",
      "text/plain": [
       "<Figure size 432x288 with 1 Axes>"
      ]
     },
     "metadata": {
      "needs_background": "light"
     },
     "output_type": "display_data"
    }
   ],
   "source": [
    "# 図示\n",
    "i = np.random.randint(len(dataloader_ins.x_train))\n",
    "\n",
    "image = dataloader_ins.x_train[i, :, :, 0]\n",
    "ans = dataloader_ins.y_train[i].argmax()\n",
    "plt.imshow(image)\n",
    "plt.title('ans=' + str(ans))"
   ]
  },
  {
   "cell_type": "markdown",
   "metadata": {},
   "source": [
    "# モデルの定義"
   ]
  },
  {
   "cell_type": "code",
   "execution_count": 6,
   "metadata": {},
   "outputs": [],
   "source": [
    "from keras.layers import Input, ZeroPadding2D, Conv2D, GlobalAveragePooling2D, Dense, Dropout\n",
    "from keras import Model"
   ]
  },
  {
   "cell_type": "code",
   "execution_count": 7,
   "metadata": {},
   "outputs": [],
   "source": [
    "# getTrainModel関数で keras.model を返すクラスを定義\n",
    "\n",
    "class Usermodel_MNIST_easyCNN:\n",
    "    def __init__(self, input_shape):\n",
    "        self.input_shape = input_shape\n",
    "    \n",
    "    def getTrainModel(self):\n",
    "        # モデル定義\n",
    "        inputs = Input(shape=input_shape)\n",
    "        x = Conv2D(32, (5, 5), strides=(2, 2), padding='same', activation='relu', input_shape=input_shape)(inputs)\n",
    "        x = Conv2D(64, (3, 3), strides=(1, 1), padding='same', activation='relu')(x)\n",
    "        x = Conv2D(128, (3, 3), strides=(1, 1), padding='same', activation='relu', name='feature_map')(x)\n",
    "        x = GlobalAveragePooling2D()(x)\n",
    "        x = Dropout(0.5)(x)\n",
    "        outputs = Dense(10, activation='softmax', name='dense')(x)\n",
    "        # モデル作成\n",
    "        model = Model(inputs=inputs, outputs=outputs)\n",
    "        return model"
   ]
  },
  {
   "cell_type": "code",
   "execution_count": 8,
   "metadata": {},
   "outputs": [],
   "source": [
    "# モデル用クラスのインスタンス生成\n",
    "input_shape = dataloader_ins.x_train[0].shape\n",
    "usermodel_ins = Usermodel_MNIST_easyCNN(input_shape)"
   ]
  },
  {
   "cell_type": "markdown",
   "metadata": {},
   "source": [
    "# 学習"
   ]
  },
  {
   "cell_type": "code",
   "execution_count": 11,
   "metadata": {},
   "outputs": [],
   "source": [
    "solver_ins = Solver(dataloader_ins, usermodel_ins, n_epochs=10)"
   ]
  },
  {
   "cell_type": "code",
   "execution_count": 12,
   "metadata": {},
   "outputs": [
    {
     "name": "stdout",
     "output_type": "stream",
     "text": [
      "WARNING:tensorflow:From /usr/local/lib/python3.6/dist-packages/tensorflow_core/python/ops/resource_variable_ops.py:1630: calling BaseResourceVariable.__init__ (from tensorflow.python.ops.resource_variable_ops) with constraint is deprecated and will be removed in a future version.\n",
      "Instructions for updating:\n",
      "If using Keras pass *_constraint arguments to layers.\n"
     ]
    }
   ],
   "source": [
    "model = solver_ins.get_model()"
   ]
  },
  {
   "cell_type": "code",
   "execution_count": 14,
   "metadata": {
    "scrolled": true
   },
   "outputs": [
    {
     "name": "stdout",
     "output_type": "stream",
     "text": [
      "x_train shape (500, 28, 28, 1)\n",
      "y_train shape (500, 10)\n",
      "WARNING:tensorflow:From /usr/local/lib/python3.6/dist-packages/tensorflow_core/python/ops/math_grad.py:1424: where (from tensorflow.python.ops.array_ops) is deprecated and will be removed in a future version.\n",
      "Instructions for updating:\n",
      "Use tf.where in 2.0, which has the same broadcast rule as np.where\n",
      "WARNING:tensorflow:From /usr/local/lib/python3.6/dist-packages/keras/backend/tensorflow_backend.py:422: The name tf.global_variables is deprecated. Please use tf.compat.v1.global_variables instead.\n",
      "\n",
      "Train on 500 samples, validate on 500 samples\n",
      "WARNING:tensorflow:From /usr/local/lib/python3.6/dist-packages/keras/callbacks/tensorboard_v1.py:198: The name tf.summary.histogram is deprecated. Please use tf.compat.v1.summary.histogram instead.\n",
      "\n",
      "WARNING:tensorflow:From /usr/local/lib/python3.6/dist-packages/keras/callbacks/tensorboard_v1.py:200: The name tf.summary.merge_all is deprecated. Please use tf.compat.v1.summary.merge_all instead.\n",
      "\n",
      "WARNING:tensorflow:From /usr/local/lib/python3.6/dist-packages/keras/callbacks/tensorboard_v1.py:203: The name tf.summary.FileWriter is deprecated. Please use tf.compat.v1.summary.FileWriter instead.\n",
      "\n",
      "Epoch 1/10\n",
      "500/500 [==============================] - 4s 8ms/step - loss: 0.3252 - categorical_accuracy: 0.1040 - val_loss: 0.3238 - val_categorical_accuracy: 0.1860\n",
      "\n",
      "Epoch 00001: val_loss improved from inf to 0.32377, saving model to final_weights_step.hdf5\n",
      "WARNING:tensorflow:From /usr/local/lib/python3.6/dist-packages/keras/callbacks/tensorboard_v1.py:343: The name tf.Summary is deprecated. Please use tf.compat.v1.Summary instead.\n",
      "\n",
      "Epoch 2/10\n",
      "500/500 [==============================] - 1s 2ms/step - loss: 0.3225 - categorical_accuracy: 0.1240 - val_loss: 0.3175 - val_categorical_accuracy: 0.1240\n",
      "\n",
      "Epoch 00002: val_loss improved from 0.32377 to 0.31749, saving model to final_weights_step.hdf5\n",
      "Epoch 3/10\n",
      "500/500 [==============================] - 1s 2ms/step - loss: 0.3086 - categorical_accuracy: 0.2360 - val_loss: 0.3005 - val_categorical_accuracy: 0.2920\n",
      "\n",
      "Epoch 00003: val_loss improved from 0.31749 to 0.30054, saving model to final_weights_step.hdf5\n",
      "Epoch 4/10\n",
      "500/500 [==============================] - 1s 2ms/step - loss: 0.2893 - categorical_accuracy: 0.2860 - val_loss: 0.2741 - val_categorical_accuracy: 0.3540\n",
      "\n",
      "Epoch 00004: val_loss improved from 0.30054 to 0.27408, saving model to final_weights_step.hdf5\n",
      "Epoch 5/10\n",
      "500/500 [==============================] - 1s 2ms/step - loss: 0.2772 - categorical_accuracy: 0.3080 - val_loss: 0.2848 - val_categorical_accuracy: 0.2320\n",
      "\n",
      "Epoch 00005: val_loss did not improve from 0.27408\n",
      "Epoch 6/10\n",
      "500/500 [==============================] - 1s 1ms/step - loss: 0.2632 - categorical_accuracy: 0.3620 - val_loss: 0.2507 - val_categorical_accuracy: 0.3800\n",
      "\n",
      "Epoch 00006: val_loss improved from 0.27408 to 0.25068, saving model to final_weights_step.hdf5\n",
      "Epoch 7/10\n",
      "500/500 [==============================] - 1s 1ms/step - loss: 0.2554 - categorical_accuracy: 0.3600 - val_loss: 0.2319 - val_categorical_accuracy: 0.5400\n",
      "\n",
      "Epoch 00007: val_loss improved from 0.25068 to 0.23193, saving model to final_weights_step.hdf5\n",
      "Epoch 8/10\n",
      "500/500 [==============================] - 1s 1ms/step - loss: 0.2387 - categorical_accuracy: 0.4020 - val_loss: 0.2181 - val_categorical_accuracy: 0.5840\n",
      "\n",
      "Epoch 00008: val_loss improved from 0.23193 to 0.21806, saving model to final_weights_step.hdf5\n",
      "Epoch 9/10\n",
      "500/500 [==============================] - 1s 2ms/step - loss: 0.2294 - categorical_accuracy: 0.4320 - val_loss: 0.2135 - val_categorical_accuracy: 0.5100\n",
      "\n",
      "Epoch 00009: val_loss improved from 0.21806 to 0.21348, saving model to final_weights_step.hdf5\n",
      "Epoch 10/10\n",
      "500/500 [==============================] - 1s 2ms/step - loss: 0.2260 - categorical_accuracy: 0.4480 - val_loss: 0.2074 - val_categorical_accuracy: 0.5820\n",
      "\n",
      "Epoch 00010: val_loss improved from 0.21348 to 0.20741, saving model to final_weights_step.hdf5\n"
     ]
    }
   ],
   "source": [
    "solver_ins.train(model, batch_size=10)"
   ]
  },
  {
   "cell_type": "markdown",
   "metadata": {},
   "source": [
    "# 結果"
   ]
  },
  {
   "cell_type": "code",
   "execution_count": 15,
   "metadata": {},
   "outputs": [
    {
     "data": {
      "text/plain": [
       "Text(0.5, 1.0, 'pred=5, ans=5')"
      ]
     },
     "execution_count": 15,
     "metadata": {},
     "output_type": "execute_result"
    },
    {
     "data": {
      "image/png": "[encoded data removed]",
      "text/plain": [
       "<Figure size 432x288 with 1 Axes>"
      ]
     },
     "metadata": {
      "needs_background": "light"
     },
     "output_type": "display_data"
    }
   ],
   "source": [
    "# テスト画像の表示\n",
    "i = np.random.randint(len(dataloader_ins.x_test))\n",
    "pred = model.predict(dataloader_ins.x_test[i:i+1])\n",
    "pred_num = pred.argmax()\n",
    "\n",
    "image = dataloader_ins.x_test[i, :, :, 0]\n",
    "ans = dataloader_ins.y_test[i].argmax()\n",
    "plt.imshow(image)\n",
    "plt.title('pred=' + str(pred_num) + ', ans=' + str(ans))"
   ]
  },
  {
   "cell_type": "markdown",
   "metadata": {},
   "source": [
    "# CAM"
   ]
  },
  {
   "cell_type": "code",
   "execution_count": 16,
   "metadata": {},
   "outputs": [],
   "source": [
    "from class_activation_map import ClassActivationMap"
   ]
  },
  {
   "cell_type": "code",
   "execution_count": 21,
   "metadata": {},
   "outputs": [],
   "source": [
    "# ClassActivationMap計算用クラスの作成\n",
    "cam = ClassActivationMap(model, layer_GAP=-3, layer_dense=-1)"
   ]
  },
  {
   "cell_type": "code",
   "execution_count": 22,
   "metadata": {},
   "outputs": [
    {
     "data": {
      "text/plain": [
       "(1, 28, 28, 1)"
      ]
     },
     "execution_count": 22,
     "metadata": {},
     "output_type": "execute_result"
    }
   ],
   "source": [
    "# CAMを計算したい画像\n",
    "images = dataloader_ins.x_test[[0]]\n",
    "labels = dataloader_ins.y_test[[0]]\n",
    "images.shape"
   ]
  },
  {
   "cell_type": "code",
   "execution_count": 23,
   "metadata": {},
   "outputs": [
    {
     "data": {
      "text/plain": [
       "(1, 14, 14, 10)"
      ]
     },
     "execution_count": 23,
     "metadata": {},
     "output_type": "execute_result"
    }
   ],
   "source": [
    "# ClassActivationMapを計算\n",
    "cam_images = cam.get_class_activation_map(images)\n",
    "cam_images.shape"
   ]
  },
  {
   "cell_type": "code",
   "execution_count": 24,
   "metadata": {},
   "outputs": [
    {
     "data": {
      "image/png": "[encoded data removed]",
      "text/plain": [
       "<Figure size 864x864 with 11 Axes>"
      ]
     },
     "metadata": {
      "needs_background": "light"
     },
     "output_type": "display_data"
    }
   ],
   "source": [
    "# 図示する画像を一枚だけ選ぶ\n",
    "i = 0\n",
    "image = images[i]\n",
    "label = labels[i]\n",
    "cam_image = cam_images[i]\n",
    "\n",
    "# 予測結果と答えを計算\n",
    "pred = model.predict(image[np.newaxis, :, :, :]).argmax()  # 予測結果\n",
    "ans = labels[i].argmax()  # 答え\n",
    "\n",
    "### 図示 ###\n",
    "plt.figure(figsize=(12, 12))\n",
    "# 元画像\n",
    "plt.subplot(341)\n",
    "plt.imshow(image[:, :, 0])\n",
    "plt.title('pred={0}, ans={1}'.format(pred, ans))\n",
    "# CAM\n",
    "for j in range(10):\n",
    "    cam_class = cam_image[:, :, j]  # あるクラスのCAMを取得\n",
    "    plt.subplot(3, 4, j+3)\n",
    "    plt.imshow(cam_class, vmin=-200, vmax=200)\n",
    "    plt.title(str(j) + ', mean=' + str(cam_class.mean()))  # あるクラスのCAMの平均"
   ]
  },
  {
   "cell_type": "code",
   "execution_count": null,
   "metadata": {},
   "outputs": [],
   "source": []
  }
 ],
 "metadata": {
  "kernelspec": {
   "display_name": "Python 3",
   "language": "python",
   "name": "python3"
  },
  "language_info": {
   "codemirror_mode": {
    "name": "ipython",
    "version": 3
   },
   "file_extension": ".py",
   "mimetype": "text/x-python",
   "name": "python",
   "nbconvert_exporter": "python",
   "pygments_lexer": "ipython3",
   "version": "3.6.9"
  }
 },
 "nbformat": 4,
 "nbformat_minor": 4
}
