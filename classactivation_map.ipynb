{
  "nbformat": 4,
  "nbformat_minor": 0,
  "metadata": {
    "colab": {
      "name": "classactivation_map.ipynb",
      "provenance": [],
      "collapsed_sections": []
    },
    "kernelspec": {
      "display_name": "Python 3",
      "language": "python",
      "name": "python3"
    },
    "language_info": {
      "codemirror_mode": {
        "name": "ipython",
        "version": 3
      },
      "file_extension": ".py",
      "mimetype": "text/x-python",
      "name": "python",
      "nbconvert_exporter": "python",
      "pygments_lexer": "ipython3",
      "version": "3.6.9"
    }
  },
  "cells": [
    {
      "cell_type": "code",
      "metadata": {
        "id": "VKBwOsdPcGTP",
        "colab_type": "code",
        "colab": {}
      },
      "source": [
        "from google.colab import drive\n",
        "drive.mount('/content/drive')"
      ],
      "execution_count": 0,
      "outputs": []
    },
    {
      "cell_type": "code",
      "metadata": {
        "id": "JZ94RrBImdik",
        "colab_type": "code",
        "colab": {}
      },
      "source": [
        "%tensorflow_version 1.x\n",
        "import tensorflow as tf\n",
        "print(tf.__version__)\n",
        "!pip install -U efficientnet==0.0.4"
      ],
      "execution_count": 0,
      "outputs": []
    },
    {
      "cell_type": "code",
      "metadata": {
        "id": "c-KJ0z47iDmh",
        "colab_type": "code",
        "colab": {}
      },
      "source": [
        "# Dataloader ： utils/loder.pyに記述するべき内容\n",
        "%load_ext autoreload\n",
        "import numpy as np\n",
        "import cv2\n",
        "from math import ceil\n",
        "from scipy import ndimage\n",
        "from sklearn.model_selection import train_test_split\n",
        "import pandas as pd\n",
        "import matplotlib.pyplot as plt\n",
        "import matplotlib.image as mpimg\n",
        "import seaborn as sns\n",
        "%matplotlib inline\n",
        "from tensorflow.keras import utils\n",
        "import keras\n",
        "#from tensorflow.keras.datasets.cifar10 import load_data\n",
        "from tensorflow.keras.datasets.mnist import load_data\n"
      ],
      "execution_count": 0,
      "outputs": []
    },
    {
      "cell_type": "code",
      "metadata": {
        "id": "GjJYniLZxfft",
        "colab_type": "code",
        "colab": {}
      },
      "source": [
        "%autoreload"
      ],
      "execution_count": 0,
      "outputs": []
    },
    {
      "cell_type": "code",
      "metadata": {
        "id": "nZaBG3BijGH0",
        "colab_type": "code",
        "colab": {}
      },
      "source": [
        "from dataloader import Dataloader\n",
        "dataloader_ins = Dataloader()\n",
        "dataloader_ins.get_data(resize_mode = True, resize_shape = (56,56), cvtColor_mode = True)\n",
        "\n",
        "print(\"x_train shape : {}\".format(dataloader_ins.x_train.shape))\n",
        "print(\"y_train shape : {}\".format(dataloader_ins.y_train.shape))"
      ],
      "execution_count": 0,
      "outputs": []
    },
    {
      "cell_type": "code",
      "metadata": {
        "id": "M0CVZ-l4mDkL",
        "colab_type": "code",
        "colab": {}
      },
      "source": [
        "from usermodel_efficientnet import Usermodel_efficientnet\n",
        "\n",
        "data_num = dataloader_ins.x_train.shape[0]\n",
        "cut_size = {\n",
        "    \"height\" : dataloader_ins.x_train.shape[1],\n",
        "    \"width\" : dataloader_ins.x_train.shape[2]\n",
        "}\n",
        "channel = dataloader_ins.x_train.shape[3]\n",
        "category_count = dataloader_ins.y_train.shape[1]\n",
        "\n",
        "print(data_num)\n",
        "print(cut_size)\n",
        "print(channel)\n",
        "print(category_count)\n",
        "\n",
        "usermodel_ins = Usermodel_efficientnet(cut_size, channel, category_count)"
      ],
      "execution_count": 0,
      "outputs": []
    },
    {
      "cell_type": "code",
      "metadata": {
        "id": "PXy6GS3q5-s2",
        "colab_type": "code",
        "colab": {}
      },
      "source": [
        "from solver import Solver\n",
        "solver_ins = Solver(dataloader_ins, usermodel_ins, batch_size = 10, n_epochs = 5)\n",
        "model = solver_ins.get_model()"
      ],
      "execution_count": 0,
      "outputs": []
    },
    {
      "cell_type": "code",
      "metadata": {
        "id": "qtH23JC58PqL",
        "colab_type": "code",
        "outputId": "cc304b95-439f-4569-cfe4-1c1d75d17ecf",
        "colab": {
          "base_uri": "https://localhost:8080/",
          "height": 539
        }
      },
      "source": [
        "solver_ins.train(model)"
      ],
      "execution_count": 0,
      "outputs": [
        {
          "output_type": "stream",
          "text": [
            "x_train shape (500, 56, 56, 3)\n",
            "y_train shape (500, 10)\n",
            "WARNING:tensorflow:From /usr/local/lib/python3.6/dist-packages/keras/backend/tensorflow_backend.py:422: The name tf.global_variables is deprecated. Please use tf.compat.v1.global_variables instead.\n",
            "\n",
            "Train on 500 samples, validate on 500 samples\n",
            "WARNING:tensorflow:From /usr/local/lib/python3.6/dist-packages/keras/callbacks/tensorboard_v1.py:198: The name tf.summary.histogram is deprecated. Please use tf.compat.v1.summary.histogram instead.\n",
            "\n",
            "WARNING:tensorflow:From /usr/local/lib/python3.6/dist-packages/keras/callbacks/tensorboard_v1.py:200: The name tf.summary.merge_all is deprecated. Please use tf.compat.v1.summary.merge_all instead.\n",
            "\n",
            "WARNING:tensorflow:From /usr/local/lib/python3.6/dist-packages/keras/callbacks/tensorboard_v1.py:203: The name tf.summary.FileWriter is deprecated. Please use tf.compat.v1.summary.FileWriter instead.\n",
            "\n",
            "Epoch 1/5\n",
            "500/500 [==============================] - 31s 62ms/step - loss: 0.2349 - categorical_accuracy: 0.5700 - val_loss: 0.3571 - val_categorical_accuracy: 0.3440\n",
            "\n",
            "Epoch 00001: val_loss improved from inf to 0.35705, saving model to final_weights_step.hdf5\n",
            "WARNING:tensorflow:From /usr/local/lib/python3.6/dist-packages/keras/callbacks/tensorboard_v1.py:343: The name tf.Summary is deprecated. Please use tf.compat.v1.Summary instead.\n",
            "\n",
            "Epoch 2/5\n",
            "500/500 [==============================] - 23s 46ms/step - loss: 0.1432 - categorical_accuracy: 0.7660 - val_loss: 0.2361 - val_categorical_accuracy: 0.5080\n",
            "\n",
            "Epoch 00002: val_loss improved from 0.35705 to 0.23607, saving model to final_weights_step.hdf5\n",
            "Epoch 3/5\n",
            "500/500 [==============================] - 23s 46ms/step - loss: 0.1138 - categorical_accuracy: 0.8080 - val_loss: 0.2200 - val_categorical_accuracy: 0.5720\n",
            "\n",
            "Epoch 00003: val_loss improved from 0.23607 to 0.21996, saving model to final_weights_step.hdf5\n",
            "Epoch 4/5\n",
            "500/500 [==============================] - 23s 46ms/step - loss: 0.1235 - categorical_accuracy: 0.8160 - val_loss: 0.2902 - val_categorical_accuracy: 0.5940\n",
            "\n",
            "Epoch 00004: val_loss did not improve from 0.21996\n"
          ],
          "name": "stdout"
        }
      ]
    },
    {
      "cell_type": "code",
      "metadata": {
        "id": "HucPP26S042w",
        "colab_type": "code",
        "colab": {}
      },
      "source": [
        "%load_ext tensorboard"
      ],
      "execution_count": 0,
      "outputs": []
    },
    {
      "cell_type": "code",
      "metadata": {
        "id": "SRVr1UOfsXco",
        "colab_type": "code",
        "colab": {}
      },
      "source": [
        "%tensorboard --logdir=\"./log\"\n",
        "# ローカルで見たい時はlocalhost:6006にアクセスする事"
      ],
      "execution_count": 0,
      "outputs": []
    },
    {
      "cell_type": "code",
      "metadata": {
        "id": "cb61UD-98sod",
        "colab_type": "code",
        "colab": {}
      },
      "source": [
        ""
      ],
      "execution_count": 0,
      "outputs": []
    }
  ]
}